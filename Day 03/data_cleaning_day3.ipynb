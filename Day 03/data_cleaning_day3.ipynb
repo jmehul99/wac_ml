{
  "nbformat": 4,
  "nbformat_minor": 0,
  "metadata": {
    "colab": {
      "name": "data_cleaning_day3.ipynb",
      "provenance": []
    },
    "kernelspec": {
      "name": "python3",
      "display_name": "Python 3"
    },
    "language_info": {
      "name": "python"
    }
  },
  "cells": [
    {
      "cell_type": "code",
      "metadata": {
        "colab": {
          "base_uri": "https://localhost:8080/"
        },
        "id": "98P5xtYXokHG",
        "outputId": "aaffce91-3c45-4056-c4c4-1e7381e76376"
      },
      "source": [
        "# Mount gdrive on colab notebook\n",
        "from google.colab import drive\n",
        "drive.mount('/content/drive')"
      ],
      "execution_count": null,
      "outputs": [
        {
          "output_type": "stream",
          "text": [
            "Mounted at /content/drive\n"
          ],
          "name": "stdout"
        }
      ]
    },
    {
      "cell_type": "markdown",
      "metadata": {
        "id": "h8SMwlvkswvs"
      },
      "source": [
        "**Handling Missing Data**"
      ]
    },
    {
      "cell_type": "code",
      "metadata": {
        "colab": {
          "base_uri": "https://localhost:8080/"
        },
        "id": "1-bkpSahtJIT",
        "outputId": "779cf7db-2068-4a1a-daaf-b3e17ce6650f"
      },
      "source": [
        "# modules we'll use\n",
        "import pandas as pd\n",
        "import numpy as np\n",
        "\n",
        "# read in all our data\n",
        "nfl_data = pd.read_csv(\"/content/drive/MyDrive/datasets/NFL Play by Play 2009-2017 (v4).csv\")"
      ],
      "execution_count": null,
      "outputs": [
        {
          "output_type": "stream",
          "text": [
            "/usr/local/lib/python3.7/dist-packages/IPython/core/interactiveshell.py:2718: DtypeWarning: Columns (25,51) have mixed types.Specify dtype option on import or set low_memory=False.\n",
            "  interactivity=interactivity, compiler=compiler, result=result)\n"
          ],
          "name": "stderr"
        }
      ]
    },
    {
      "cell_type": "code",
      "metadata": {
        "colab": {
          "base_uri": "https://localhost:8080/",
          "height": 508
        },
        "id": "7RdDJ-gytJKy",
        "outputId": "eb645411-712c-4fe7-88a8-6d322ff6eaf2"
      },
      "source": [
        "nfl_data.head()"
      ],
      "execution_count": null,
      "outputs": [
        {
          "output_type": "execute_result",
          "data": {
            "text/html": [
              "<div>\n",
              "<style scoped>\n",
              "    .dataframe tbody tr th:only-of-type {\n",
              "        vertical-align: middle;\n",
              "    }\n",
              "\n",
              "    .dataframe tbody tr th {\n",
              "        vertical-align: top;\n",
              "    }\n",
              "\n",
              "    .dataframe thead th {\n",
              "        text-align: right;\n",
              "    }\n",
              "</style>\n",
              "<table border=\"1\" class=\"dataframe\">\n",
              "  <thead>\n",
              "    <tr style=\"text-align: right;\">\n",
              "      <th></th>\n",
              "      <th>Date</th>\n",
              "      <th>GameID</th>\n",
              "      <th>Drive</th>\n",
              "      <th>qtr</th>\n",
              "      <th>down</th>\n",
              "      <th>time</th>\n",
              "      <th>TimeUnder</th>\n",
              "      <th>TimeSecs</th>\n",
              "      <th>PlayTimeDiff</th>\n",
              "      <th>SideofField</th>\n",
              "      <th>yrdln</th>\n",
              "      <th>yrdline100</th>\n",
              "      <th>ydstogo</th>\n",
              "      <th>ydsnet</th>\n",
              "      <th>GoalToGo</th>\n",
              "      <th>FirstDown</th>\n",
              "      <th>posteam</th>\n",
              "      <th>DefensiveTeam</th>\n",
              "      <th>desc</th>\n",
              "      <th>PlayAttempted</th>\n",
              "      <th>Yards.Gained</th>\n",
              "      <th>sp</th>\n",
              "      <th>Touchdown</th>\n",
              "      <th>ExPointResult</th>\n",
              "      <th>TwoPointConv</th>\n",
              "      <th>DefTwoPoint</th>\n",
              "      <th>Safety</th>\n",
              "      <th>Onsidekick</th>\n",
              "      <th>PuntResult</th>\n",
              "      <th>PlayType</th>\n",
              "      <th>Passer</th>\n",
              "      <th>Passer_ID</th>\n",
              "      <th>PassAttempt</th>\n",
              "      <th>PassOutcome</th>\n",
              "      <th>PassLength</th>\n",
              "      <th>AirYards</th>\n",
              "      <th>YardsAfterCatch</th>\n",
              "      <th>QBHit</th>\n",
              "      <th>PassLocation</th>\n",
              "      <th>InterceptionThrown</th>\n",
              "      <th>...</th>\n",
              "      <th>Accepted.Penalty</th>\n",
              "      <th>PenalizedTeam</th>\n",
              "      <th>PenaltyType</th>\n",
              "      <th>PenalizedPlayer</th>\n",
              "      <th>Penalty.Yards</th>\n",
              "      <th>PosTeamScore</th>\n",
              "      <th>DefTeamScore</th>\n",
              "      <th>ScoreDiff</th>\n",
              "      <th>AbsScoreDiff</th>\n",
              "      <th>HomeTeam</th>\n",
              "      <th>AwayTeam</th>\n",
              "      <th>Timeout_Indicator</th>\n",
              "      <th>Timeout_Team</th>\n",
              "      <th>posteam_timeouts_pre</th>\n",
              "      <th>HomeTimeouts_Remaining_Pre</th>\n",
              "      <th>AwayTimeouts_Remaining_Pre</th>\n",
              "      <th>HomeTimeouts_Remaining_Post</th>\n",
              "      <th>AwayTimeouts_Remaining_Post</th>\n",
              "      <th>No_Score_Prob</th>\n",
              "      <th>Opp_Field_Goal_Prob</th>\n",
              "      <th>Opp_Safety_Prob</th>\n",
              "      <th>Opp_Touchdown_Prob</th>\n",
              "      <th>Field_Goal_Prob</th>\n",
              "      <th>Safety_Prob</th>\n",
              "      <th>Touchdown_Prob</th>\n",
              "      <th>ExPoint_Prob</th>\n",
              "      <th>TwoPoint_Prob</th>\n",
              "      <th>ExpPts</th>\n",
              "      <th>EPA</th>\n",
              "      <th>airEPA</th>\n",
              "      <th>yacEPA</th>\n",
              "      <th>Home_WP_pre</th>\n",
              "      <th>Away_WP_pre</th>\n",
              "      <th>Home_WP_post</th>\n",
              "      <th>Away_WP_post</th>\n",
              "      <th>Win_Prob</th>\n",
              "      <th>WPA</th>\n",
              "      <th>airWPA</th>\n",
              "      <th>yacWPA</th>\n",
              "      <th>Season</th>\n",
              "    </tr>\n",
              "  </thead>\n",
              "  <tbody>\n",
              "    <tr>\n",
              "      <th>0</th>\n",
              "      <td>2009-09-10</td>\n",
              "      <td>2009091000</td>\n",
              "      <td>1</td>\n",
              "      <td>1</td>\n",
              "      <td>NaN</td>\n",
              "      <td>15:00</td>\n",
              "      <td>15</td>\n",
              "      <td>3600.0</td>\n",
              "      <td>0.0</td>\n",
              "      <td>TEN</td>\n",
              "      <td>30.0</td>\n",
              "      <td>30.0</td>\n",
              "      <td>0</td>\n",
              "      <td>0</td>\n",
              "      <td>0.0</td>\n",
              "      <td>NaN</td>\n",
              "      <td>PIT</td>\n",
              "      <td>TEN</td>\n",
              "      <td>R.Bironas kicks 67 yards from TEN 30 to PIT 3....</td>\n",
              "      <td>1</td>\n",
              "      <td>39</td>\n",
              "      <td>0</td>\n",
              "      <td>0</td>\n",
              "      <td>NaN</td>\n",
              "      <td>NaN</td>\n",
              "      <td>NaN</td>\n",
              "      <td>0</td>\n",
              "      <td>0</td>\n",
              "      <td>NaN</td>\n",
              "      <td>Kickoff</td>\n",
              "      <td>NaN</td>\n",
              "      <td>None</td>\n",
              "      <td>0</td>\n",
              "      <td>NaN</td>\n",
              "      <td>NaN</td>\n",
              "      <td>0</td>\n",
              "      <td>0</td>\n",
              "      <td>0</td>\n",
              "      <td>NaN</td>\n",
              "      <td>0</td>\n",
              "      <td>...</td>\n",
              "      <td>0</td>\n",
              "      <td>NaN</td>\n",
              "      <td>NaN</td>\n",
              "      <td>NaN</td>\n",
              "      <td>0</td>\n",
              "      <td>0.0</td>\n",
              "      <td>0.0</td>\n",
              "      <td>0.0</td>\n",
              "      <td>0.0</td>\n",
              "      <td>PIT</td>\n",
              "      <td>TEN</td>\n",
              "      <td>0</td>\n",
              "      <td>None</td>\n",
              "      <td>3</td>\n",
              "      <td>3</td>\n",
              "      <td>3</td>\n",
              "      <td>3</td>\n",
              "      <td>3</td>\n",
              "      <td>0.001506</td>\n",
              "      <td>0.179749</td>\n",
              "      <td>0.006639</td>\n",
              "      <td>0.281138</td>\n",
              "      <td>0.213700</td>\n",
              "      <td>0.003592</td>\n",
              "      <td>0.313676</td>\n",
              "      <td>0.0</td>\n",
              "      <td>0.0</td>\n",
              "      <td>0.323526</td>\n",
              "      <td>2.014474</td>\n",
              "      <td>NaN</td>\n",
              "      <td>NaN</td>\n",
              "      <td>0.485675</td>\n",
              "      <td>0.514325</td>\n",
              "      <td>0.546433</td>\n",
              "      <td>0.453567</td>\n",
              "      <td>0.485675</td>\n",
              "      <td>0.060758</td>\n",
              "      <td>NaN</td>\n",
              "      <td>NaN</td>\n",
              "      <td>2009</td>\n",
              "    </tr>\n",
              "    <tr>\n",
              "      <th>1</th>\n",
              "      <td>2009-09-10</td>\n",
              "      <td>2009091000</td>\n",
              "      <td>1</td>\n",
              "      <td>1</td>\n",
              "      <td>1.0</td>\n",
              "      <td>14:53</td>\n",
              "      <td>15</td>\n",
              "      <td>3593.0</td>\n",
              "      <td>7.0</td>\n",
              "      <td>PIT</td>\n",
              "      <td>42.0</td>\n",
              "      <td>58.0</td>\n",
              "      <td>10</td>\n",
              "      <td>5</td>\n",
              "      <td>0.0</td>\n",
              "      <td>0.0</td>\n",
              "      <td>PIT</td>\n",
              "      <td>TEN</td>\n",
              "      <td>(14:53) B.Roethlisberger pass short left to H....</td>\n",
              "      <td>1</td>\n",
              "      <td>5</td>\n",
              "      <td>0</td>\n",
              "      <td>0</td>\n",
              "      <td>NaN</td>\n",
              "      <td>NaN</td>\n",
              "      <td>NaN</td>\n",
              "      <td>0</td>\n",
              "      <td>0</td>\n",
              "      <td>NaN</td>\n",
              "      <td>Pass</td>\n",
              "      <td>B.Roethlisberger</td>\n",
              "      <td>00-0022924</td>\n",
              "      <td>1</td>\n",
              "      <td>Complete</td>\n",
              "      <td>Short</td>\n",
              "      <td>-3</td>\n",
              "      <td>8</td>\n",
              "      <td>0</td>\n",
              "      <td>left</td>\n",
              "      <td>0</td>\n",
              "      <td>...</td>\n",
              "      <td>0</td>\n",
              "      <td>NaN</td>\n",
              "      <td>NaN</td>\n",
              "      <td>NaN</td>\n",
              "      <td>0</td>\n",
              "      <td>0.0</td>\n",
              "      <td>0.0</td>\n",
              "      <td>0.0</td>\n",
              "      <td>0.0</td>\n",
              "      <td>PIT</td>\n",
              "      <td>TEN</td>\n",
              "      <td>0</td>\n",
              "      <td>None</td>\n",
              "      <td>3</td>\n",
              "      <td>3</td>\n",
              "      <td>3</td>\n",
              "      <td>3</td>\n",
              "      <td>3</td>\n",
              "      <td>0.000969</td>\n",
              "      <td>0.108505</td>\n",
              "      <td>0.001061</td>\n",
              "      <td>0.169117</td>\n",
              "      <td>0.293700</td>\n",
              "      <td>0.003638</td>\n",
              "      <td>0.423011</td>\n",
              "      <td>0.0</td>\n",
              "      <td>0.0</td>\n",
              "      <td>2.338000</td>\n",
              "      <td>0.077907</td>\n",
              "      <td>-1.068169</td>\n",
              "      <td>1.146076</td>\n",
              "      <td>0.546433</td>\n",
              "      <td>0.453567</td>\n",
              "      <td>0.551088</td>\n",
              "      <td>0.448912</td>\n",
              "      <td>0.546433</td>\n",
              "      <td>0.004655</td>\n",
              "      <td>-0.032244</td>\n",
              "      <td>0.036899</td>\n",
              "      <td>2009</td>\n",
              "    </tr>\n",
              "    <tr>\n",
              "      <th>2</th>\n",
              "      <td>2009-09-10</td>\n",
              "      <td>2009091000</td>\n",
              "      <td>1</td>\n",
              "      <td>1</td>\n",
              "      <td>2.0</td>\n",
              "      <td>14:16</td>\n",
              "      <td>15</td>\n",
              "      <td>3556.0</td>\n",
              "      <td>37.0</td>\n",
              "      <td>PIT</td>\n",
              "      <td>47.0</td>\n",
              "      <td>53.0</td>\n",
              "      <td>5</td>\n",
              "      <td>2</td>\n",
              "      <td>0.0</td>\n",
              "      <td>0.0</td>\n",
              "      <td>PIT</td>\n",
              "      <td>TEN</td>\n",
              "      <td>(14:16) W.Parker right end to PIT 44 for -3 ya...</td>\n",
              "      <td>1</td>\n",
              "      <td>-3</td>\n",
              "      <td>0</td>\n",
              "      <td>0</td>\n",
              "      <td>NaN</td>\n",
              "      <td>NaN</td>\n",
              "      <td>NaN</td>\n",
              "      <td>0</td>\n",
              "      <td>0</td>\n",
              "      <td>NaN</td>\n",
              "      <td>Run</td>\n",
              "      <td>NaN</td>\n",
              "      <td>None</td>\n",
              "      <td>0</td>\n",
              "      <td>NaN</td>\n",
              "      <td>NaN</td>\n",
              "      <td>0</td>\n",
              "      <td>0</td>\n",
              "      <td>0</td>\n",
              "      <td>NaN</td>\n",
              "      <td>0</td>\n",
              "      <td>...</td>\n",
              "      <td>0</td>\n",
              "      <td>NaN</td>\n",
              "      <td>NaN</td>\n",
              "      <td>NaN</td>\n",
              "      <td>0</td>\n",
              "      <td>0.0</td>\n",
              "      <td>0.0</td>\n",
              "      <td>0.0</td>\n",
              "      <td>0.0</td>\n",
              "      <td>PIT</td>\n",
              "      <td>TEN</td>\n",
              "      <td>0</td>\n",
              "      <td>None</td>\n",
              "      <td>3</td>\n",
              "      <td>3</td>\n",
              "      <td>3</td>\n",
              "      <td>3</td>\n",
              "      <td>3</td>\n",
              "      <td>0.001057</td>\n",
              "      <td>0.105106</td>\n",
              "      <td>0.000981</td>\n",
              "      <td>0.162747</td>\n",
              "      <td>0.304805</td>\n",
              "      <td>0.003826</td>\n",
              "      <td>0.421478</td>\n",
              "      <td>0.0</td>\n",
              "      <td>0.0</td>\n",
              "      <td>2.415907</td>\n",
              "      <td>-1.402760</td>\n",
              "      <td>NaN</td>\n",
              "      <td>NaN</td>\n",
              "      <td>0.551088</td>\n",
              "      <td>0.448912</td>\n",
              "      <td>0.510793</td>\n",
              "      <td>0.489207</td>\n",
              "      <td>0.551088</td>\n",
              "      <td>-0.040295</td>\n",
              "      <td>NaN</td>\n",
              "      <td>NaN</td>\n",
              "      <td>2009</td>\n",
              "    </tr>\n",
              "    <tr>\n",
              "      <th>3</th>\n",
              "      <td>2009-09-10</td>\n",
              "      <td>2009091000</td>\n",
              "      <td>1</td>\n",
              "      <td>1</td>\n",
              "      <td>3.0</td>\n",
              "      <td>13:35</td>\n",
              "      <td>14</td>\n",
              "      <td>3515.0</td>\n",
              "      <td>41.0</td>\n",
              "      <td>PIT</td>\n",
              "      <td>44.0</td>\n",
              "      <td>56.0</td>\n",
              "      <td>8</td>\n",
              "      <td>2</td>\n",
              "      <td>0.0</td>\n",
              "      <td>0.0</td>\n",
              "      <td>PIT</td>\n",
              "      <td>TEN</td>\n",
              "      <td>(13:35) (Shotgun) B.Roethlisberger pass incomp...</td>\n",
              "      <td>1</td>\n",
              "      <td>0</td>\n",
              "      <td>0</td>\n",
              "      <td>0</td>\n",
              "      <td>NaN</td>\n",
              "      <td>NaN</td>\n",
              "      <td>NaN</td>\n",
              "      <td>0</td>\n",
              "      <td>0</td>\n",
              "      <td>NaN</td>\n",
              "      <td>Pass</td>\n",
              "      <td>B.Roethlisberger</td>\n",
              "      <td>00-0022924</td>\n",
              "      <td>1</td>\n",
              "      <td>Incomplete Pass</td>\n",
              "      <td>Deep</td>\n",
              "      <td>34</td>\n",
              "      <td>0</td>\n",
              "      <td>0</td>\n",
              "      <td>right</td>\n",
              "      <td>0</td>\n",
              "      <td>...</td>\n",
              "      <td>0</td>\n",
              "      <td>NaN</td>\n",
              "      <td>NaN</td>\n",
              "      <td>NaN</td>\n",
              "      <td>0</td>\n",
              "      <td>0.0</td>\n",
              "      <td>0.0</td>\n",
              "      <td>0.0</td>\n",
              "      <td>0.0</td>\n",
              "      <td>PIT</td>\n",
              "      <td>TEN</td>\n",
              "      <td>0</td>\n",
              "      <td>None</td>\n",
              "      <td>3</td>\n",
              "      <td>3</td>\n",
              "      <td>3</td>\n",
              "      <td>3</td>\n",
              "      <td>3</td>\n",
              "      <td>0.001434</td>\n",
              "      <td>0.149088</td>\n",
              "      <td>0.001944</td>\n",
              "      <td>0.234801</td>\n",
              "      <td>0.289336</td>\n",
              "      <td>0.004776</td>\n",
              "      <td>0.318621</td>\n",
              "      <td>0.0</td>\n",
              "      <td>0.0</td>\n",
              "      <td>1.013147</td>\n",
              "      <td>-1.712583</td>\n",
              "      <td>3.318841</td>\n",
              "      <td>-5.031425</td>\n",
              "      <td>0.510793</td>\n",
              "      <td>0.489207</td>\n",
              "      <td>0.461217</td>\n",
              "      <td>0.538783</td>\n",
              "      <td>0.510793</td>\n",
              "      <td>-0.049576</td>\n",
              "      <td>0.106663</td>\n",
              "      <td>-0.156239</td>\n",
              "      <td>2009</td>\n",
              "    </tr>\n",
              "    <tr>\n",
              "      <th>4</th>\n",
              "      <td>2009-09-10</td>\n",
              "      <td>2009091000</td>\n",
              "      <td>1</td>\n",
              "      <td>1</td>\n",
              "      <td>4.0</td>\n",
              "      <td>13:27</td>\n",
              "      <td>14</td>\n",
              "      <td>3507.0</td>\n",
              "      <td>8.0</td>\n",
              "      <td>PIT</td>\n",
              "      <td>44.0</td>\n",
              "      <td>56.0</td>\n",
              "      <td>8</td>\n",
              "      <td>2</td>\n",
              "      <td>0.0</td>\n",
              "      <td>1.0</td>\n",
              "      <td>PIT</td>\n",
              "      <td>TEN</td>\n",
              "      <td>(13:27) (Punt formation) D.Sepulveda punts 54 ...</td>\n",
              "      <td>1</td>\n",
              "      <td>0</td>\n",
              "      <td>0</td>\n",
              "      <td>0</td>\n",
              "      <td>NaN</td>\n",
              "      <td>NaN</td>\n",
              "      <td>NaN</td>\n",
              "      <td>0</td>\n",
              "      <td>0</td>\n",
              "      <td>Clean</td>\n",
              "      <td>Punt</td>\n",
              "      <td>NaN</td>\n",
              "      <td>None</td>\n",
              "      <td>0</td>\n",
              "      <td>NaN</td>\n",
              "      <td>NaN</td>\n",
              "      <td>0</td>\n",
              "      <td>0</td>\n",
              "      <td>0</td>\n",
              "      <td>NaN</td>\n",
              "      <td>0</td>\n",
              "      <td>...</td>\n",
              "      <td>0</td>\n",
              "      <td>NaN</td>\n",
              "      <td>NaN</td>\n",
              "      <td>NaN</td>\n",
              "      <td>0</td>\n",
              "      <td>0.0</td>\n",
              "      <td>0.0</td>\n",
              "      <td>0.0</td>\n",
              "      <td>0.0</td>\n",
              "      <td>PIT</td>\n",
              "      <td>TEN</td>\n",
              "      <td>0</td>\n",
              "      <td>None</td>\n",
              "      <td>3</td>\n",
              "      <td>3</td>\n",
              "      <td>3</td>\n",
              "      <td>3</td>\n",
              "      <td>3</td>\n",
              "      <td>0.001861</td>\n",
              "      <td>0.213480</td>\n",
              "      <td>0.003279</td>\n",
              "      <td>0.322262</td>\n",
              "      <td>0.244603</td>\n",
              "      <td>0.006404</td>\n",
              "      <td>0.208111</td>\n",
              "      <td>0.0</td>\n",
              "      <td>0.0</td>\n",
              "      <td>-0.699436</td>\n",
              "      <td>2.097796</td>\n",
              "      <td>NaN</td>\n",
              "      <td>NaN</td>\n",
              "      <td>0.461217</td>\n",
              "      <td>0.538783</td>\n",
              "      <td>0.558929</td>\n",
              "      <td>0.441071</td>\n",
              "      <td>0.461217</td>\n",
              "      <td>0.097712</td>\n",
              "      <td>NaN</td>\n",
              "      <td>NaN</td>\n",
              "      <td>2009</td>\n",
              "    </tr>\n",
              "  </tbody>\n",
              "</table>\n",
              "<p>5 rows × 102 columns</p>\n",
              "</div>"
            ],
            "text/plain": [
              "         Date      GameID  Drive  qtr  ...       WPA    airWPA    yacWPA  Season\n",
              "0  2009-09-10  2009091000      1    1  ...  0.060758       NaN       NaN    2009\n",
              "1  2009-09-10  2009091000      1    1  ...  0.004655 -0.032244  0.036899    2009\n",
              "2  2009-09-10  2009091000      1    1  ... -0.040295       NaN       NaN    2009\n",
              "3  2009-09-10  2009091000      1    1  ... -0.049576  0.106663 -0.156239    2009\n",
              "4  2009-09-10  2009091000      1    1  ...  0.097712       NaN       NaN    2009\n",
              "\n",
              "[5 rows x 102 columns]"
            ]
          },
          "metadata": {
            "tags": []
          },
          "execution_count": 3
        }
      ]
    },
    {
      "cell_type": "code",
      "metadata": {
        "colab": {
          "base_uri": "https://localhost:8080/"
        },
        "id": "GTlTvlsltJO7",
        "outputId": "2a820c2e-0773-408b-8ac1-27f9eeedb873"
      },
      "source": [
        "# get the number of missing data points per column\n",
        "missing_values_count = nfl_data.isnull().sum()\n",
        "\n",
        "# look at the # of missing points in the first ten columns\n",
        "missing_values_count[0:10]"
      ],
      "execution_count": null,
      "outputs": [
        {
          "output_type": "execute_result",
          "data": {
            "text/plain": [
              "Date                0\n",
              "GameID              0\n",
              "Drive               0\n",
              "qtr                 0\n",
              "down            61154\n",
              "time              224\n",
              "TimeUnder           0\n",
              "TimeSecs          224\n",
              "PlayTimeDiff      444\n",
              "SideofField       528\n",
              "dtype: int64"
            ]
          },
          "metadata": {
            "tags": []
          },
          "execution_count": 4
        }
      ]
    },
    {
      "cell_type": "code",
      "metadata": {
        "colab": {
          "base_uri": "https://localhost:8080/"
        },
        "id": "CmFqk1m2tJTY",
        "outputId": "5cb4e1b5-f73e-44a9-b765-a4eb137a33eb"
      },
      "source": [
        "# how many total missing values do we have?\n",
        "total_cells = np.product(nfl_data.shape)\n",
        "total_missing = missing_values_count.sum()\n",
        "\n",
        "# percent of data that is missing\n",
        "percent_missing = (total_missing/total_cells) * 100\n",
        "print(percent_missing)"
      ],
      "execution_count": null,
      "outputs": [
        {
          "output_type": "stream",
          "text": [
            "24.87214126835169\n"
          ],
          "name": "stdout"
        }
      ]
    },
    {
      "cell_type": "code",
      "metadata": {
        "colab": {
          "base_uri": "https://localhost:8080/",
          "height": 98
        },
        "id": "2TDl9ZSktJW9",
        "outputId": "1d314da2-aed5-4c7e-f9fa-9b15a1627519"
      },
      "source": [
        "# remove all the rows that contain a missing value\n",
        "nfl_data.dropna()"
      ],
      "execution_count": null,
      "outputs": [
        {
          "output_type": "execute_result",
          "data": {
            "text/html": [
              "<div>\n",
              "<style scoped>\n",
              "    .dataframe tbody tr th:only-of-type {\n",
              "        vertical-align: middle;\n",
              "    }\n",
              "\n",
              "    .dataframe tbody tr th {\n",
              "        vertical-align: top;\n",
              "    }\n",
              "\n",
              "    .dataframe thead th {\n",
              "        text-align: right;\n",
              "    }\n",
              "</style>\n",
              "<table border=\"1\" class=\"dataframe\">\n",
              "  <thead>\n",
              "    <tr style=\"text-align: right;\">\n",
              "      <th></th>\n",
              "      <th>Date</th>\n",
              "      <th>GameID</th>\n",
              "      <th>Drive</th>\n",
              "      <th>qtr</th>\n",
              "      <th>down</th>\n",
              "      <th>time</th>\n",
              "      <th>TimeUnder</th>\n",
              "      <th>TimeSecs</th>\n",
              "      <th>PlayTimeDiff</th>\n",
              "      <th>SideofField</th>\n",
              "      <th>yrdln</th>\n",
              "      <th>yrdline100</th>\n",
              "      <th>ydstogo</th>\n",
              "      <th>ydsnet</th>\n",
              "      <th>GoalToGo</th>\n",
              "      <th>FirstDown</th>\n",
              "      <th>posteam</th>\n",
              "      <th>DefensiveTeam</th>\n",
              "      <th>desc</th>\n",
              "      <th>PlayAttempted</th>\n",
              "      <th>Yards.Gained</th>\n",
              "      <th>sp</th>\n",
              "      <th>Touchdown</th>\n",
              "      <th>ExPointResult</th>\n",
              "      <th>TwoPointConv</th>\n",
              "      <th>DefTwoPoint</th>\n",
              "      <th>Safety</th>\n",
              "      <th>Onsidekick</th>\n",
              "      <th>PuntResult</th>\n",
              "      <th>PlayType</th>\n",
              "      <th>Passer</th>\n",
              "      <th>Passer_ID</th>\n",
              "      <th>PassAttempt</th>\n",
              "      <th>PassOutcome</th>\n",
              "      <th>PassLength</th>\n",
              "      <th>AirYards</th>\n",
              "      <th>YardsAfterCatch</th>\n",
              "      <th>QBHit</th>\n",
              "      <th>PassLocation</th>\n",
              "      <th>InterceptionThrown</th>\n",
              "      <th>...</th>\n",
              "      <th>Accepted.Penalty</th>\n",
              "      <th>PenalizedTeam</th>\n",
              "      <th>PenaltyType</th>\n",
              "      <th>PenalizedPlayer</th>\n",
              "      <th>Penalty.Yards</th>\n",
              "      <th>PosTeamScore</th>\n",
              "      <th>DefTeamScore</th>\n",
              "      <th>ScoreDiff</th>\n",
              "      <th>AbsScoreDiff</th>\n",
              "      <th>HomeTeam</th>\n",
              "      <th>AwayTeam</th>\n",
              "      <th>Timeout_Indicator</th>\n",
              "      <th>Timeout_Team</th>\n",
              "      <th>posteam_timeouts_pre</th>\n",
              "      <th>HomeTimeouts_Remaining_Pre</th>\n",
              "      <th>AwayTimeouts_Remaining_Pre</th>\n",
              "      <th>HomeTimeouts_Remaining_Post</th>\n",
              "      <th>AwayTimeouts_Remaining_Post</th>\n",
              "      <th>No_Score_Prob</th>\n",
              "      <th>Opp_Field_Goal_Prob</th>\n",
              "      <th>Opp_Safety_Prob</th>\n",
              "      <th>Opp_Touchdown_Prob</th>\n",
              "      <th>Field_Goal_Prob</th>\n",
              "      <th>Safety_Prob</th>\n",
              "      <th>Touchdown_Prob</th>\n",
              "      <th>ExPoint_Prob</th>\n",
              "      <th>TwoPoint_Prob</th>\n",
              "      <th>ExpPts</th>\n",
              "      <th>EPA</th>\n",
              "      <th>airEPA</th>\n",
              "      <th>yacEPA</th>\n",
              "      <th>Home_WP_pre</th>\n",
              "      <th>Away_WP_pre</th>\n",
              "      <th>Home_WP_post</th>\n",
              "      <th>Away_WP_post</th>\n",
              "      <th>Win_Prob</th>\n",
              "      <th>WPA</th>\n",
              "      <th>airWPA</th>\n",
              "      <th>yacWPA</th>\n",
              "      <th>Season</th>\n",
              "    </tr>\n",
              "  </thead>\n",
              "  <tbody>\n",
              "  </tbody>\n",
              "</table>\n",
              "<p>0 rows × 102 columns</p>\n",
              "</div>"
            ],
            "text/plain": [
              "Empty DataFrame\n",
              "Columns: [Date, GameID, Drive, qtr, down, time, TimeUnder, TimeSecs, PlayTimeDiff, SideofField, yrdln, yrdline100, ydstogo, ydsnet, GoalToGo, FirstDown, posteam, DefensiveTeam, desc, PlayAttempted, Yards.Gained, sp, Touchdown, ExPointResult, TwoPointConv, DefTwoPoint, Safety, Onsidekick, PuntResult, PlayType, Passer, Passer_ID, PassAttempt, PassOutcome, PassLength, AirYards, YardsAfterCatch, QBHit, PassLocation, InterceptionThrown, Interceptor, Rusher, Rusher_ID, RushAttempt, RunLocation, RunGap, Receiver, Receiver_ID, Reception, ReturnResult, Returner, BlockingPlayer, Tackler1, Tackler2, FieldGoalResult, FieldGoalDistance, Fumble, RecFumbTeam, RecFumbPlayer, Sack, Challenge.Replay, ChalReplayResult, Accepted.Penalty, PenalizedTeam, PenaltyType, PenalizedPlayer, Penalty.Yards, PosTeamScore, DefTeamScore, ScoreDiff, AbsScoreDiff, HomeTeam, AwayTeam, Timeout_Indicator, Timeout_Team, posteam_timeouts_pre, HomeTimeouts_Remaining_Pre, AwayTimeouts_Remaining_Pre, HomeTimeouts_Remaining_Post, AwayTimeouts_Remaining_Post, No_Score_Prob, Opp_Field_Goal_Prob, Opp_Safety_Prob, Opp_Touchdown_Prob, Field_Goal_Prob, Safety_Prob, Touchdown_Prob, ExPoint_Prob, TwoPoint_Prob, ExpPts, EPA, airEPA, yacEPA, Home_WP_pre, Away_WP_pre, Home_WP_post, Away_WP_post, Win_Prob, WPA, airWPA, ...]\n",
              "Index: []\n",
              "\n",
              "[0 rows x 102 columns]"
            ]
          },
          "metadata": {
            "tags": []
          },
          "execution_count": 6
        }
      ]
    },
    {
      "cell_type": "code",
      "metadata": {
        "colab": {
          "base_uri": "https://localhost:8080/",
          "height": 309
        },
        "id": "5DMekvletJaj",
        "outputId": "b028c946-d827-463e-ba16-dbf1fcb80587"
      },
      "source": [
        "# remove all columns with at least one missing value\n",
        "columns_with_na_dropped = nfl_data.dropna(axis=1)\n",
        "columns_with_na_dropped.head()"
      ],
      "execution_count": null,
      "outputs": [
        {
          "output_type": "execute_result",
          "data": {
            "text/html": [
              "<div>\n",
              "<style scoped>\n",
              "    .dataframe tbody tr th:only-of-type {\n",
              "        vertical-align: middle;\n",
              "    }\n",
              "\n",
              "    .dataframe tbody tr th {\n",
              "        vertical-align: top;\n",
              "    }\n",
              "\n",
              "    .dataframe thead th {\n",
              "        text-align: right;\n",
              "    }\n",
              "</style>\n",
              "<table border=\"1\" class=\"dataframe\">\n",
              "  <thead>\n",
              "    <tr style=\"text-align: right;\">\n",
              "      <th></th>\n",
              "      <th>Date</th>\n",
              "      <th>GameID</th>\n",
              "      <th>Drive</th>\n",
              "      <th>qtr</th>\n",
              "      <th>TimeUnder</th>\n",
              "      <th>ydstogo</th>\n",
              "      <th>ydsnet</th>\n",
              "      <th>PlayAttempted</th>\n",
              "      <th>Yards.Gained</th>\n",
              "      <th>sp</th>\n",
              "      <th>Touchdown</th>\n",
              "      <th>Safety</th>\n",
              "      <th>Onsidekick</th>\n",
              "      <th>PlayType</th>\n",
              "      <th>Passer_ID</th>\n",
              "      <th>PassAttempt</th>\n",
              "      <th>AirYards</th>\n",
              "      <th>YardsAfterCatch</th>\n",
              "      <th>QBHit</th>\n",
              "      <th>InterceptionThrown</th>\n",
              "      <th>Rusher_ID</th>\n",
              "      <th>RushAttempt</th>\n",
              "      <th>Receiver_ID</th>\n",
              "      <th>Reception</th>\n",
              "      <th>Fumble</th>\n",
              "      <th>Sack</th>\n",
              "      <th>Challenge.Replay</th>\n",
              "      <th>Accepted.Penalty</th>\n",
              "      <th>Penalty.Yards</th>\n",
              "      <th>HomeTeam</th>\n",
              "      <th>AwayTeam</th>\n",
              "      <th>Timeout_Indicator</th>\n",
              "      <th>Timeout_Team</th>\n",
              "      <th>posteam_timeouts_pre</th>\n",
              "      <th>HomeTimeouts_Remaining_Pre</th>\n",
              "      <th>AwayTimeouts_Remaining_Pre</th>\n",
              "      <th>HomeTimeouts_Remaining_Post</th>\n",
              "      <th>AwayTimeouts_Remaining_Post</th>\n",
              "      <th>ExPoint_Prob</th>\n",
              "      <th>TwoPoint_Prob</th>\n",
              "      <th>Season</th>\n",
              "    </tr>\n",
              "  </thead>\n",
              "  <tbody>\n",
              "    <tr>\n",
              "      <th>0</th>\n",
              "      <td>2009-09-10</td>\n",
              "      <td>2009091000</td>\n",
              "      <td>1</td>\n",
              "      <td>1</td>\n",
              "      <td>15</td>\n",
              "      <td>0</td>\n",
              "      <td>0</td>\n",
              "      <td>1</td>\n",
              "      <td>39</td>\n",
              "      <td>0</td>\n",
              "      <td>0</td>\n",
              "      <td>0</td>\n",
              "      <td>0</td>\n",
              "      <td>Kickoff</td>\n",
              "      <td>None</td>\n",
              "      <td>0</td>\n",
              "      <td>0</td>\n",
              "      <td>0</td>\n",
              "      <td>0</td>\n",
              "      <td>0</td>\n",
              "      <td>None</td>\n",
              "      <td>0</td>\n",
              "      <td>None</td>\n",
              "      <td>0</td>\n",
              "      <td>0</td>\n",
              "      <td>0</td>\n",
              "      <td>0</td>\n",
              "      <td>0</td>\n",
              "      <td>0</td>\n",
              "      <td>PIT</td>\n",
              "      <td>TEN</td>\n",
              "      <td>0</td>\n",
              "      <td>None</td>\n",
              "      <td>3</td>\n",
              "      <td>3</td>\n",
              "      <td>3</td>\n",
              "      <td>3</td>\n",
              "      <td>3</td>\n",
              "      <td>0.0</td>\n",
              "      <td>0.0</td>\n",
              "      <td>2009</td>\n",
              "    </tr>\n",
              "    <tr>\n",
              "      <th>1</th>\n",
              "      <td>2009-09-10</td>\n",
              "      <td>2009091000</td>\n",
              "      <td>1</td>\n",
              "      <td>1</td>\n",
              "      <td>15</td>\n",
              "      <td>10</td>\n",
              "      <td>5</td>\n",
              "      <td>1</td>\n",
              "      <td>5</td>\n",
              "      <td>0</td>\n",
              "      <td>0</td>\n",
              "      <td>0</td>\n",
              "      <td>0</td>\n",
              "      <td>Pass</td>\n",
              "      <td>00-0022924</td>\n",
              "      <td>1</td>\n",
              "      <td>-3</td>\n",
              "      <td>8</td>\n",
              "      <td>0</td>\n",
              "      <td>0</td>\n",
              "      <td>None</td>\n",
              "      <td>0</td>\n",
              "      <td>00-0017162</td>\n",
              "      <td>1</td>\n",
              "      <td>0</td>\n",
              "      <td>0</td>\n",
              "      <td>0</td>\n",
              "      <td>0</td>\n",
              "      <td>0</td>\n",
              "      <td>PIT</td>\n",
              "      <td>TEN</td>\n",
              "      <td>0</td>\n",
              "      <td>None</td>\n",
              "      <td>3</td>\n",
              "      <td>3</td>\n",
              "      <td>3</td>\n",
              "      <td>3</td>\n",
              "      <td>3</td>\n",
              "      <td>0.0</td>\n",
              "      <td>0.0</td>\n",
              "      <td>2009</td>\n",
              "    </tr>\n",
              "    <tr>\n",
              "      <th>2</th>\n",
              "      <td>2009-09-10</td>\n",
              "      <td>2009091000</td>\n",
              "      <td>1</td>\n",
              "      <td>1</td>\n",
              "      <td>15</td>\n",
              "      <td>5</td>\n",
              "      <td>2</td>\n",
              "      <td>1</td>\n",
              "      <td>-3</td>\n",
              "      <td>0</td>\n",
              "      <td>0</td>\n",
              "      <td>0</td>\n",
              "      <td>0</td>\n",
              "      <td>Run</td>\n",
              "      <td>None</td>\n",
              "      <td>0</td>\n",
              "      <td>0</td>\n",
              "      <td>0</td>\n",
              "      <td>0</td>\n",
              "      <td>0</td>\n",
              "      <td>00-0022250</td>\n",
              "      <td>1</td>\n",
              "      <td>None</td>\n",
              "      <td>0</td>\n",
              "      <td>0</td>\n",
              "      <td>0</td>\n",
              "      <td>0</td>\n",
              "      <td>0</td>\n",
              "      <td>0</td>\n",
              "      <td>PIT</td>\n",
              "      <td>TEN</td>\n",
              "      <td>0</td>\n",
              "      <td>None</td>\n",
              "      <td>3</td>\n",
              "      <td>3</td>\n",
              "      <td>3</td>\n",
              "      <td>3</td>\n",
              "      <td>3</td>\n",
              "      <td>0.0</td>\n",
              "      <td>0.0</td>\n",
              "      <td>2009</td>\n",
              "    </tr>\n",
              "    <tr>\n",
              "      <th>3</th>\n",
              "      <td>2009-09-10</td>\n",
              "      <td>2009091000</td>\n",
              "      <td>1</td>\n",
              "      <td>1</td>\n",
              "      <td>14</td>\n",
              "      <td>8</td>\n",
              "      <td>2</td>\n",
              "      <td>1</td>\n",
              "      <td>0</td>\n",
              "      <td>0</td>\n",
              "      <td>0</td>\n",
              "      <td>0</td>\n",
              "      <td>0</td>\n",
              "      <td>Pass</td>\n",
              "      <td>00-0022924</td>\n",
              "      <td>1</td>\n",
              "      <td>34</td>\n",
              "      <td>0</td>\n",
              "      <td>0</td>\n",
              "      <td>0</td>\n",
              "      <td>None</td>\n",
              "      <td>0</td>\n",
              "      <td>00-0026901</td>\n",
              "      <td>0</td>\n",
              "      <td>0</td>\n",
              "      <td>0</td>\n",
              "      <td>0</td>\n",
              "      <td>0</td>\n",
              "      <td>0</td>\n",
              "      <td>PIT</td>\n",
              "      <td>TEN</td>\n",
              "      <td>0</td>\n",
              "      <td>None</td>\n",
              "      <td>3</td>\n",
              "      <td>3</td>\n",
              "      <td>3</td>\n",
              "      <td>3</td>\n",
              "      <td>3</td>\n",
              "      <td>0.0</td>\n",
              "      <td>0.0</td>\n",
              "      <td>2009</td>\n",
              "    </tr>\n",
              "    <tr>\n",
              "      <th>4</th>\n",
              "      <td>2009-09-10</td>\n",
              "      <td>2009091000</td>\n",
              "      <td>1</td>\n",
              "      <td>1</td>\n",
              "      <td>14</td>\n",
              "      <td>8</td>\n",
              "      <td>2</td>\n",
              "      <td>1</td>\n",
              "      <td>0</td>\n",
              "      <td>0</td>\n",
              "      <td>0</td>\n",
              "      <td>0</td>\n",
              "      <td>0</td>\n",
              "      <td>Punt</td>\n",
              "      <td>None</td>\n",
              "      <td>0</td>\n",
              "      <td>0</td>\n",
              "      <td>0</td>\n",
              "      <td>0</td>\n",
              "      <td>0</td>\n",
              "      <td>None</td>\n",
              "      <td>0</td>\n",
              "      <td>None</td>\n",
              "      <td>0</td>\n",
              "      <td>0</td>\n",
              "      <td>0</td>\n",
              "      <td>0</td>\n",
              "      <td>0</td>\n",
              "      <td>0</td>\n",
              "      <td>PIT</td>\n",
              "      <td>TEN</td>\n",
              "      <td>0</td>\n",
              "      <td>None</td>\n",
              "      <td>3</td>\n",
              "      <td>3</td>\n",
              "      <td>3</td>\n",
              "      <td>3</td>\n",
              "      <td>3</td>\n",
              "      <td>0.0</td>\n",
              "      <td>0.0</td>\n",
              "      <td>2009</td>\n",
              "    </tr>\n",
              "  </tbody>\n",
              "</table>\n",
              "</div>"
            ],
            "text/plain": [
              "         Date      GameID  Drive  ...  ExPoint_Prob  TwoPoint_Prob  Season\n",
              "0  2009-09-10  2009091000      1  ...           0.0            0.0    2009\n",
              "1  2009-09-10  2009091000      1  ...           0.0            0.0    2009\n",
              "2  2009-09-10  2009091000      1  ...           0.0            0.0    2009\n",
              "3  2009-09-10  2009091000      1  ...           0.0            0.0    2009\n",
              "4  2009-09-10  2009091000      1  ...           0.0            0.0    2009\n",
              "\n",
              "[5 rows x 41 columns]"
            ]
          },
          "metadata": {
            "tags": []
          },
          "execution_count": 8
        }
      ]
    },
    {
      "cell_type": "code",
      "metadata": {
        "colab": {
          "base_uri": "https://localhost:8080/"
        },
        "id": "8eCZxcpxugT6",
        "outputId": "10bc65d7-7cd5-4105-b359-9dc14837d636"
      },
      "source": [
        "# just how much data did we lose?\n",
        "print(\"Columns in original dataset: %d \\n\" % nfl_data.shape[1])\n",
        "print(\"Columns with na's dropped: %d\" % columns_with_na_dropped.shape[1])"
      ],
      "execution_count": null,
      "outputs": [
        {
          "output_type": "stream",
          "text": [
            "Columns in original dataset: 102 \n",
            "\n",
            "Columns with na's dropped: 41\n"
          ],
          "name": "stdout"
        }
      ]
    },
    {
      "cell_type": "code",
      "metadata": {
        "colab": {
          "base_uri": "https://localhost:8080/",
          "height": 224
        },
        "id": "nl95GSNjugXV",
        "outputId": "191181e4-a944-4246-d9b6-8285e7950f69"
      },
      "source": [
        "# get a small subset of the NFL dataset\n",
        "subset_nfl_data = nfl_data.loc[:, 'EPA':'Season'].head()\n",
        "subset_nfl_data"
      ],
      "execution_count": null,
      "outputs": [
        {
          "output_type": "execute_result",
          "data": {
            "text/html": [
              "<div>\n",
              "<style scoped>\n",
              "    .dataframe tbody tr th:only-of-type {\n",
              "        vertical-align: middle;\n",
              "    }\n",
              "\n",
              "    .dataframe tbody tr th {\n",
              "        vertical-align: top;\n",
              "    }\n",
              "\n",
              "    .dataframe thead th {\n",
              "        text-align: right;\n",
              "    }\n",
              "</style>\n",
              "<table border=\"1\" class=\"dataframe\">\n",
              "  <thead>\n",
              "    <tr style=\"text-align: right;\">\n",
              "      <th></th>\n",
              "      <th>EPA</th>\n",
              "      <th>airEPA</th>\n",
              "      <th>yacEPA</th>\n",
              "      <th>Home_WP_pre</th>\n",
              "      <th>Away_WP_pre</th>\n",
              "      <th>Home_WP_post</th>\n",
              "      <th>Away_WP_post</th>\n",
              "      <th>Win_Prob</th>\n",
              "      <th>WPA</th>\n",
              "      <th>airWPA</th>\n",
              "      <th>yacWPA</th>\n",
              "      <th>Season</th>\n",
              "    </tr>\n",
              "  </thead>\n",
              "  <tbody>\n",
              "    <tr>\n",
              "      <th>0</th>\n",
              "      <td>2.014474</td>\n",
              "      <td>NaN</td>\n",
              "      <td>NaN</td>\n",
              "      <td>0.485675</td>\n",
              "      <td>0.514325</td>\n",
              "      <td>0.546433</td>\n",
              "      <td>0.453567</td>\n",
              "      <td>0.485675</td>\n",
              "      <td>0.060758</td>\n",
              "      <td>NaN</td>\n",
              "      <td>NaN</td>\n",
              "      <td>2009</td>\n",
              "    </tr>\n",
              "    <tr>\n",
              "      <th>1</th>\n",
              "      <td>0.077907</td>\n",
              "      <td>-1.068169</td>\n",
              "      <td>1.146076</td>\n",
              "      <td>0.546433</td>\n",
              "      <td>0.453567</td>\n",
              "      <td>0.551088</td>\n",
              "      <td>0.448912</td>\n",
              "      <td>0.546433</td>\n",
              "      <td>0.004655</td>\n",
              "      <td>-0.032244</td>\n",
              "      <td>0.036899</td>\n",
              "      <td>2009</td>\n",
              "    </tr>\n",
              "    <tr>\n",
              "      <th>2</th>\n",
              "      <td>-1.402760</td>\n",
              "      <td>NaN</td>\n",
              "      <td>NaN</td>\n",
              "      <td>0.551088</td>\n",
              "      <td>0.448912</td>\n",
              "      <td>0.510793</td>\n",
              "      <td>0.489207</td>\n",
              "      <td>0.551088</td>\n",
              "      <td>-0.040295</td>\n",
              "      <td>NaN</td>\n",
              "      <td>NaN</td>\n",
              "      <td>2009</td>\n",
              "    </tr>\n",
              "    <tr>\n",
              "      <th>3</th>\n",
              "      <td>-1.712583</td>\n",
              "      <td>3.318841</td>\n",
              "      <td>-5.031425</td>\n",
              "      <td>0.510793</td>\n",
              "      <td>0.489207</td>\n",
              "      <td>0.461217</td>\n",
              "      <td>0.538783</td>\n",
              "      <td>0.510793</td>\n",
              "      <td>-0.049576</td>\n",
              "      <td>0.106663</td>\n",
              "      <td>-0.156239</td>\n",
              "      <td>2009</td>\n",
              "    </tr>\n",
              "    <tr>\n",
              "      <th>4</th>\n",
              "      <td>2.097796</td>\n",
              "      <td>NaN</td>\n",
              "      <td>NaN</td>\n",
              "      <td>0.461217</td>\n",
              "      <td>0.538783</td>\n",
              "      <td>0.558929</td>\n",
              "      <td>0.441071</td>\n",
              "      <td>0.461217</td>\n",
              "      <td>0.097712</td>\n",
              "      <td>NaN</td>\n",
              "      <td>NaN</td>\n",
              "      <td>2009</td>\n",
              "    </tr>\n",
              "  </tbody>\n",
              "</table>\n",
              "</div>"
            ],
            "text/plain": [
              "        EPA    airEPA    yacEPA  ...    airWPA    yacWPA  Season\n",
              "0  2.014474       NaN       NaN  ...       NaN       NaN    2009\n",
              "1  0.077907 -1.068169  1.146076  ... -0.032244  0.036899    2009\n",
              "2 -1.402760       NaN       NaN  ...       NaN       NaN    2009\n",
              "3 -1.712583  3.318841 -5.031425  ...  0.106663 -0.156239    2009\n",
              "4  2.097796       NaN       NaN  ...       NaN       NaN    2009\n",
              "\n",
              "[5 rows x 12 columns]"
            ]
          },
          "metadata": {
            "tags": []
          },
          "execution_count": 10
        }
      ]
    },
    {
      "cell_type": "code",
      "metadata": {
        "colab": {
          "base_uri": "https://localhost:8080/",
          "height": 224
        },
        "id": "I24VG_n_uga2",
        "outputId": "c42ba531-5abd-4c85-bb66-2c14fb8fed74"
      },
      "source": [
        "# replace all NA's with 0\n",
        "subset_nfl_data.fillna(0)"
      ],
      "execution_count": null,
      "outputs": [
        {
          "output_type": "execute_result",
          "data": {
            "text/html": [
              "<div>\n",
              "<style scoped>\n",
              "    .dataframe tbody tr th:only-of-type {\n",
              "        vertical-align: middle;\n",
              "    }\n",
              "\n",
              "    .dataframe tbody tr th {\n",
              "        vertical-align: top;\n",
              "    }\n",
              "\n",
              "    .dataframe thead th {\n",
              "        text-align: right;\n",
              "    }\n",
              "</style>\n",
              "<table border=\"1\" class=\"dataframe\">\n",
              "  <thead>\n",
              "    <tr style=\"text-align: right;\">\n",
              "      <th></th>\n",
              "      <th>EPA</th>\n",
              "      <th>airEPA</th>\n",
              "      <th>yacEPA</th>\n",
              "      <th>Home_WP_pre</th>\n",
              "      <th>Away_WP_pre</th>\n",
              "      <th>Home_WP_post</th>\n",
              "      <th>Away_WP_post</th>\n",
              "      <th>Win_Prob</th>\n",
              "      <th>WPA</th>\n",
              "      <th>airWPA</th>\n",
              "      <th>yacWPA</th>\n",
              "      <th>Season</th>\n",
              "    </tr>\n",
              "  </thead>\n",
              "  <tbody>\n",
              "    <tr>\n",
              "      <th>0</th>\n",
              "      <td>2.014474</td>\n",
              "      <td>0.000000</td>\n",
              "      <td>0.000000</td>\n",
              "      <td>0.485675</td>\n",
              "      <td>0.514325</td>\n",
              "      <td>0.546433</td>\n",
              "      <td>0.453567</td>\n",
              "      <td>0.485675</td>\n",
              "      <td>0.060758</td>\n",
              "      <td>0.000000</td>\n",
              "      <td>0.000000</td>\n",
              "      <td>2009</td>\n",
              "    </tr>\n",
              "    <tr>\n",
              "      <th>1</th>\n",
              "      <td>0.077907</td>\n",
              "      <td>-1.068169</td>\n",
              "      <td>1.146076</td>\n",
              "      <td>0.546433</td>\n",
              "      <td>0.453567</td>\n",
              "      <td>0.551088</td>\n",
              "      <td>0.448912</td>\n",
              "      <td>0.546433</td>\n",
              "      <td>0.004655</td>\n",
              "      <td>-0.032244</td>\n",
              "      <td>0.036899</td>\n",
              "      <td>2009</td>\n",
              "    </tr>\n",
              "    <tr>\n",
              "      <th>2</th>\n",
              "      <td>-1.402760</td>\n",
              "      <td>0.000000</td>\n",
              "      <td>0.000000</td>\n",
              "      <td>0.551088</td>\n",
              "      <td>0.448912</td>\n",
              "      <td>0.510793</td>\n",
              "      <td>0.489207</td>\n",
              "      <td>0.551088</td>\n",
              "      <td>-0.040295</td>\n",
              "      <td>0.000000</td>\n",
              "      <td>0.000000</td>\n",
              "      <td>2009</td>\n",
              "    </tr>\n",
              "    <tr>\n",
              "      <th>3</th>\n",
              "      <td>-1.712583</td>\n",
              "      <td>3.318841</td>\n",
              "      <td>-5.031425</td>\n",
              "      <td>0.510793</td>\n",
              "      <td>0.489207</td>\n",
              "      <td>0.461217</td>\n",
              "      <td>0.538783</td>\n",
              "      <td>0.510793</td>\n",
              "      <td>-0.049576</td>\n",
              "      <td>0.106663</td>\n",
              "      <td>-0.156239</td>\n",
              "      <td>2009</td>\n",
              "    </tr>\n",
              "    <tr>\n",
              "      <th>4</th>\n",
              "      <td>2.097796</td>\n",
              "      <td>0.000000</td>\n",
              "      <td>0.000000</td>\n",
              "      <td>0.461217</td>\n",
              "      <td>0.538783</td>\n",
              "      <td>0.558929</td>\n",
              "      <td>0.441071</td>\n",
              "      <td>0.461217</td>\n",
              "      <td>0.097712</td>\n",
              "      <td>0.000000</td>\n",
              "      <td>0.000000</td>\n",
              "      <td>2009</td>\n",
              "    </tr>\n",
              "  </tbody>\n",
              "</table>\n",
              "</div>"
            ],
            "text/plain": [
              "        EPA    airEPA    yacEPA  ...    airWPA    yacWPA  Season\n",
              "0  2.014474  0.000000  0.000000  ...  0.000000  0.000000    2009\n",
              "1  0.077907 -1.068169  1.146076  ... -0.032244  0.036899    2009\n",
              "2 -1.402760  0.000000  0.000000  ...  0.000000  0.000000    2009\n",
              "3 -1.712583  3.318841 -5.031425  ...  0.106663 -0.156239    2009\n",
              "4  2.097796  0.000000  0.000000  ...  0.000000  0.000000    2009\n",
              "\n",
              "[5 rows x 12 columns]"
            ]
          },
          "metadata": {
            "tags": []
          },
          "execution_count": 11
        }
      ]
    },
    {
      "cell_type": "code",
      "metadata": {
        "colab": {
          "base_uri": "https://localhost:8080/",
          "height": 224
        },
        "id": "B3f1U-7XuycZ",
        "outputId": "b4e2e911-508e-4bb1-d904-9c278580b78d"
      },
      "source": [
        "# replace all NA's the value that comes directly after it in the same column, \n",
        "# then replace all the remaining na's with 0\n",
        "subset_nfl_data.fillna(method='bfill', axis=0).fillna(0)"
      ],
      "execution_count": null,
      "outputs": [
        {
          "output_type": "execute_result",
          "data": {
            "text/html": [
              "<div>\n",
              "<style scoped>\n",
              "    .dataframe tbody tr th:only-of-type {\n",
              "        vertical-align: middle;\n",
              "    }\n",
              "\n",
              "    .dataframe tbody tr th {\n",
              "        vertical-align: top;\n",
              "    }\n",
              "\n",
              "    .dataframe thead th {\n",
              "        text-align: right;\n",
              "    }\n",
              "</style>\n",
              "<table border=\"1\" class=\"dataframe\">\n",
              "  <thead>\n",
              "    <tr style=\"text-align: right;\">\n",
              "      <th></th>\n",
              "      <th>EPA</th>\n",
              "      <th>airEPA</th>\n",
              "      <th>yacEPA</th>\n",
              "      <th>Home_WP_pre</th>\n",
              "      <th>Away_WP_pre</th>\n",
              "      <th>Home_WP_post</th>\n",
              "      <th>Away_WP_post</th>\n",
              "      <th>Win_Prob</th>\n",
              "      <th>WPA</th>\n",
              "      <th>airWPA</th>\n",
              "      <th>yacWPA</th>\n",
              "      <th>Season</th>\n",
              "    </tr>\n",
              "  </thead>\n",
              "  <tbody>\n",
              "    <tr>\n",
              "      <th>0</th>\n",
              "      <td>2.014474</td>\n",
              "      <td>-1.068169</td>\n",
              "      <td>1.146076</td>\n",
              "      <td>0.485675</td>\n",
              "      <td>0.514325</td>\n",
              "      <td>0.546433</td>\n",
              "      <td>0.453567</td>\n",
              "      <td>0.485675</td>\n",
              "      <td>0.060758</td>\n",
              "      <td>-0.032244</td>\n",
              "      <td>0.036899</td>\n",
              "      <td>2009</td>\n",
              "    </tr>\n",
              "    <tr>\n",
              "      <th>1</th>\n",
              "      <td>0.077907</td>\n",
              "      <td>-1.068169</td>\n",
              "      <td>1.146076</td>\n",
              "      <td>0.546433</td>\n",
              "      <td>0.453567</td>\n",
              "      <td>0.551088</td>\n",
              "      <td>0.448912</td>\n",
              "      <td>0.546433</td>\n",
              "      <td>0.004655</td>\n",
              "      <td>-0.032244</td>\n",
              "      <td>0.036899</td>\n",
              "      <td>2009</td>\n",
              "    </tr>\n",
              "    <tr>\n",
              "      <th>2</th>\n",
              "      <td>-1.402760</td>\n",
              "      <td>3.318841</td>\n",
              "      <td>-5.031425</td>\n",
              "      <td>0.551088</td>\n",
              "      <td>0.448912</td>\n",
              "      <td>0.510793</td>\n",
              "      <td>0.489207</td>\n",
              "      <td>0.551088</td>\n",
              "      <td>-0.040295</td>\n",
              "      <td>0.106663</td>\n",
              "      <td>-0.156239</td>\n",
              "      <td>2009</td>\n",
              "    </tr>\n",
              "    <tr>\n",
              "      <th>3</th>\n",
              "      <td>-1.712583</td>\n",
              "      <td>3.318841</td>\n",
              "      <td>-5.031425</td>\n",
              "      <td>0.510793</td>\n",
              "      <td>0.489207</td>\n",
              "      <td>0.461217</td>\n",
              "      <td>0.538783</td>\n",
              "      <td>0.510793</td>\n",
              "      <td>-0.049576</td>\n",
              "      <td>0.106663</td>\n",
              "      <td>-0.156239</td>\n",
              "      <td>2009</td>\n",
              "    </tr>\n",
              "    <tr>\n",
              "      <th>4</th>\n",
              "      <td>2.097796</td>\n",
              "      <td>0.000000</td>\n",
              "      <td>0.000000</td>\n",
              "      <td>0.461217</td>\n",
              "      <td>0.538783</td>\n",
              "      <td>0.558929</td>\n",
              "      <td>0.441071</td>\n",
              "      <td>0.461217</td>\n",
              "      <td>0.097712</td>\n",
              "      <td>0.000000</td>\n",
              "      <td>0.000000</td>\n",
              "      <td>2009</td>\n",
              "    </tr>\n",
              "  </tbody>\n",
              "</table>\n",
              "</div>"
            ],
            "text/plain": [
              "        EPA    airEPA    yacEPA  ...    airWPA    yacWPA  Season\n",
              "0  2.014474 -1.068169  1.146076  ... -0.032244  0.036899    2009\n",
              "1  0.077907 -1.068169  1.146076  ... -0.032244  0.036899    2009\n",
              "2 -1.402760  3.318841 -5.031425  ...  0.106663 -0.156239    2009\n",
              "3 -1.712583  3.318841 -5.031425  ...  0.106663 -0.156239    2009\n",
              "4  2.097796  0.000000  0.000000  ...  0.000000  0.000000    2009\n",
              "\n",
              "[5 rows x 12 columns]"
            ]
          },
          "metadata": {
            "tags": []
          },
          "execution_count": 12
        }
      ]
    },
    {
      "cell_type": "code",
      "metadata": {
        "colab": {
          "base_uri": "https://localhost:8080/"
        },
        "id": "UJvt5BGNvQ6L",
        "outputId": "9d1ca207-e2a4-487a-da22-1cb52d1c497a"
      },
      "source": [
        "#fill mean\n",
        "mean_airwpa= subset_nfl_data['airWPA'].mean()\n",
        "print(mean_airwpa)\n",
        "subset_nfl_data.airWPA.fillna(mean_airwpa)"
      ],
      "execution_count": null,
      "outputs": [
        {
          "output_type": "stream",
          "text": [
            "0.03720928416656632\n"
          ],
          "name": "stdout"
        },
        {
          "output_type": "execute_result",
          "data": {
            "text/plain": [
              "0    0.037209\n",
              "1   -0.032244\n",
              "2    0.037209\n",
              "3    0.106663\n",
              "4    0.037209\n",
              "Name: airWPA, dtype: float64"
            ]
          },
          "metadata": {
            "tags": []
          },
          "execution_count": 14
        }
      ]
    },
    {
      "cell_type": "markdown",
      "metadata": {
        "id": "K7BbEpQw6K_-"
      },
      "source": [
        "**Parsing Date**"
      ]
    },
    {
      "cell_type": "code",
      "metadata": {
        "id": "l0KNaAjk6Ptk"
      },
      "source": [
        "import pandas as pd\n",
        "import numpy as np\n",
        "import seaborn as sns\n",
        "import datetime\n",
        "\n",
        "# read in our data\n",
        "landslides = pd.read_csv(\"/content/drive/MyDrive/datasets/catalog.csv\")"
      ],
      "execution_count": null,
      "outputs": []
    },
    {
      "cell_type": "code",
      "metadata": {
        "colab": {
          "base_uri": "https://localhost:8080/",
          "height": 326
        },
        "id": "u2-QKM-S6Pw8",
        "outputId": "7fc23459-d305-4113-d6aa-cfe42820fc16"
      },
      "source": [
        "landslides.head()"
      ],
      "execution_count": null,
      "outputs": [
        {
          "output_type": "execute_result",
          "data": {
            "text/html": [
              "<div>\n",
              "<style scoped>\n",
              "    .dataframe tbody tr th:only-of-type {\n",
              "        vertical-align: middle;\n",
              "    }\n",
              "\n",
              "    .dataframe tbody tr th {\n",
              "        vertical-align: top;\n",
              "    }\n",
              "\n",
              "    .dataframe thead th {\n",
              "        text-align: right;\n",
              "    }\n",
              "</style>\n",
              "<table border=\"1\" class=\"dataframe\">\n",
              "  <thead>\n",
              "    <tr style=\"text-align: right;\">\n",
              "      <th></th>\n",
              "      <th>id</th>\n",
              "      <th>date</th>\n",
              "      <th>time</th>\n",
              "      <th>continent_code</th>\n",
              "      <th>country_name</th>\n",
              "      <th>country_code</th>\n",
              "      <th>state/province</th>\n",
              "      <th>population</th>\n",
              "      <th>city/town</th>\n",
              "      <th>distance</th>\n",
              "      <th>location_description</th>\n",
              "      <th>latitude</th>\n",
              "      <th>longitude</th>\n",
              "      <th>geolocation</th>\n",
              "      <th>hazard_type</th>\n",
              "      <th>landslide_type</th>\n",
              "      <th>landslide_size</th>\n",
              "      <th>trigger</th>\n",
              "      <th>storm_name</th>\n",
              "      <th>injuries</th>\n",
              "      <th>fatalities</th>\n",
              "      <th>source_name</th>\n",
              "      <th>source_link</th>\n",
              "    </tr>\n",
              "  </thead>\n",
              "  <tbody>\n",
              "    <tr>\n",
              "      <th>0</th>\n",
              "      <td>34</td>\n",
              "      <td>3/2/07</td>\n",
              "      <td>Night</td>\n",
              "      <td>NaN</td>\n",
              "      <td>United States</td>\n",
              "      <td>US</td>\n",
              "      <td>Virginia</td>\n",
              "      <td>16000</td>\n",
              "      <td>Cherry Hill</td>\n",
              "      <td>3.40765</td>\n",
              "      <td>Unknown</td>\n",
              "      <td>38.6009</td>\n",
              "      <td>-77.2682</td>\n",
              "      <td>(38.600900000000003, -77.268199999999993)</td>\n",
              "      <td>Landslide</td>\n",
              "      <td>Landslide</td>\n",
              "      <td>Small</td>\n",
              "      <td>Rain</td>\n",
              "      <td>NaN</td>\n",
              "      <td>NaN</td>\n",
              "      <td>NaN</td>\n",
              "      <td>NBC 4 news</td>\n",
              "      <td>http://www.nbc4.com/news/11186871/detail.html</td>\n",
              "    </tr>\n",
              "    <tr>\n",
              "      <th>1</th>\n",
              "      <td>42</td>\n",
              "      <td>3/22/07</td>\n",
              "      <td>NaN</td>\n",
              "      <td>NaN</td>\n",
              "      <td>United States</td>\n",
              "      <td>US</td>\n",
              "      <td>Ohio</td>\n",
              "      <td>17288</td>\n",
              "      <td>New Philadelphia</td>\n",
              "      <td>3.33522</td>\n",
              "      <td>NaN</td>\n",
              "      <td>40.5175</td>\n",
              "      <td>-81.4305</td>\n",
              "      <td>(40.517499999999998, -81.430499999999995)</td>\n",
              "      <td>Landslide</td>\n",
              "      <td>Landslide</td>\n",
              "      <td>Small</td>\n",
              "      <td>Rain</td>\n",
              "      <td>NaN</td>\n",
              "      <td>NaN</td>\n",
              "      <td>NaN</td>\n",
              "      <td>Canton Rep.com</td>\n",
              "      <td>http://www.cantonrep.com/index.php?ID=345054&amp;C...</td>\n",
              "    </tr>\n",
              "    <tr>\n",
              "      <th>2</th>\n",
              "      <td>56</td>\n",
              "      <td>4/6/07</td>\n",
              "      <td>NaN</td>\n",
              "      <td>NaN</td>\n",
              "      <td>United States</td>\n",
              "      <td>US</td>\n",
              "      <td>Pennsylvania</td>\n",
              "      <td>15930</td>\n",
              "      <td>Wilkinsburg</td>\n",
              "      <td>2.91977</td>\n",
              "      <td>Urban area</td>\n",
              "      <td>40.4377</td>\n",
              "      <td>-79.9160</td>\n",
              "      <td>(40.4377, -79.915999999999997)</td>\n",
              "      <td>Landslide</td>\n",
              "      <td>Landslide</td>\n",
              "      <td>Small</td>\n",
              "      <td>Rain</td>\n",
              "      <td>NaN</td>\n",
              "      <td>NaN</td>\n",
              "      <td>NaN</td>\n",
              "      <td>The Pittsburgh Channel.com</td>\n",
              "      <td>https://web.archive.org/web/20080423132842/htt...</td>\n",
              "    </tr>\n",
              "    <tr>\n",
              "      <th>3</th>\n",
              "      <td>59</td>\n",
              "      <td>4/14/07</td>\n",
              "      <td>NaN</td>\n",
              "      <td>NaN</td>\n",
              "      <td>Canada</td>\n",
              "      <td>CA</td>\n",
              "      <td>Quebec</td>\n",
              "      <td>42786</td>\n",
              "      <td>Châteauguay</td>\n",
              "      <td>2.98682</td>\n",
              "      <td>Above river</td>\n",
              "      <td>45.3226</td>\n",
              "      <td>-73.7771</td>\n",
              "      <td>(45.322600000000001, -73.777100000000004)</td>\n",
              "      <td>Landslide</td>\n",
              "      <td>Riverbank collapse</td>\n",
              "      <td>Small</td>\n",
              "      <td>Rain</td>\n",
              "      <td>NaN</td>\n",
              "      <td>NaN</td>\n",
              "      <td>NaN</td>\n",
              "      <td>Le Soleil</td>\n",
              "      <td>http://www.hebdos.net/lsc/edition162007/articl...</td>\n",
              "    </tr>\n",
              "    <tr>\n",
              "      <th>4</th>\n",
              "      <td>61</td>\n",
              "      <td>4/15/07</td>\n",
              "      <td>NaN</td>\n",
              "      <td>NaN</td>\n",
              "      <td>United States</td>\n",
              "      <td>US</td>\n",
              "      <td>Kentucky</td>\n",
              "      <td>6903</td>\n",
              "      <td>Pikeville</td>\n",
              "      <td>5.66542</td>\n",
              "      <td>Below road</td>\n",
              "      <td>37.4325</td>\n",
              "      <td>-82.4931</td>\n",
              "      <td>(37.432499999999997, -82.493099999999998)</td>\n",
              "      <td>Landslide</td>\n",
              "      <td>Landslide</td>\n",
              "      <td>Small</td>\n",
              "      <td>Downpour</td>\n",
              "      <td>NaN</td>\n",
              "      <td>NaN</td>\n",
              "      <td>0.0</td>\n",
              "      <td>Matthew Crawford (KGS)</td>\n",
              "      <td>NaN</td>\n",
              "    </tr>\n",
              "  </tbody>\n",
              "</table>\n",
              "</div>"
            ],
            "text/plain": [
              "   id  ...                                        source_link\n",
              "0  34  ...      http://www.nbc4.com/news/11186871/detail.html\n",
              "1  42  ...  http://www.cantonrep.com/index.php?ID=345054&C...\n",
              "2  56  ...  https://web.archive.org/web/20080423132842/htt...\n",
              "3  59  ...  http://www.hebdos.net/lsc/edition162007/articl...\n",
              "4  61  ...                                                NaN\n",
              "\n",
              "[5 rows x 23 columns]"
            ]
          },
          "metadata": {
            "tags": []
          },
          "execution_count": 16
        }
      ]
    },
    {
      "cell_type": "code",
      "metadata": {
        "colab": {
          "base_uri": "https://localhost:8080/"
        },
        "id": "p3KlHEzH6P1W",
        "outputId": "2cf17f02-7e98-4379-dea5-fcb4dbc05a55"
      },
      "source": [
        "print(landslides['date'].head())"
      ],
      "execution_count": null,
      "outputs": [
        {
          "output_type": "stream",
          "text": [
            "0     3/2/07\n",
            "1    3/22/07\n",
            "2     4/6/07\n",
            "3    4/14/07\n",
            "4    4/15/07\n",
            "Name: date, dtype: object\n"
          ],
          "name": "stdout"
        }
      ]
    },
    {
      "cell_type": "code",
      "metadata": {
        "colab": {
          "base_uri": "https://localhost:8080/"
        },
        "id": "m7uxI6Bc6P5X",
        "outputId": "c7d0195b-ee0a-4d2f-9bbf-62a1f082ec38"
      },
      "source": [
        "landslides['date'].dtype"
      ],
      "execution_count": null,
      "outputs": [
        {
          "output_type": "execute_result",
          "data": {
            "text/plain": [
              "dtype('O')"
            ]
          },
          "metadata": {
            "tags": []
          },
          "execution_count": 18
        }
      ]
    },
    {
      "cell_type": "code",
      "metadata": {
        "id": "pAIsQ95G6P9B"
      },
      "source": [
        "# create a new column, date_parsed, with the parsed dates\n",
        "landslides['date_parsed'] = pd.to_datetime(landslides['date'], format=\"%m/%d/%y\")"
      ],
      "execution_count": null,
      "outputs": []
    },
    {
      "cell_type": "code",
      "metadata": {
        "colab": {
          "base_uri": "https://localhost:8080/"
        },
        "id": "3wn8Foq66QA4",
        "outputId": "851dd5a8-8bef-4266-cd82-95a27f4b684e"
      },
      "source": [
        "# print the first few rows\n",
        "landslides['date_parsed'].head()"
      ],
      "execution_count": null,
      "outputs": [
        {
          "output_type": "execute_result",
          "data": {
            "text/plain": [
              "0   2007-03-02\n",
              "1   2007-03-22\n",
              "2   2007-04-06\n",
              "3   2007-04-14\n",
              "4   2007-04-15\n",
              "Name: date_parsed, dtype: datetime64[ns]"
            ]
          },
          "metadata": {
            "tags": []
          },
          "execution_count": 20
        }
      ]
    },
    {
      "cell_type": "code",
      "metadata": {
        "colab": {
          "base_uri": "https://localhost:8080/"
        },
        "id": "4oezixsY7Zpc",
        "outputId": "bd24368d-f6a6-4410-db56-f6f037237753"
      },
      "source": [
        "# get the day of the month from the date_parsed column\n",
        "day_of_month_landslides = landslides['date_parsed'].dt.day\n",
        "day_of_month_landslides.head()"
      ],
      "execution_count": null,
      "outputs": [
        {
          "output_type": "execute_result",
          "data": {
            "text/plain": [
              "0     2.0\n",
              "1    22.0\n",
              "2     6.0\n",
              "3    14.0\n",
              "4    15.0\n",
              "Name: date_parsed, dtype: float64"
            ]
          },
          "metadata": {
            "tags": []
          },
          "execution_count": 21
        }
      ]
    },
    {
      "cell_type": "markdown",
      "metadata": {
        "id": "qqPwr84m_tC-"
      },
      "source": [
        "**Character Encodings**\n",
        "\n",
        "---\n",
        "Character encodings are specific sets of rules for mapping from raw binary byte strings (that look like this: 0110100001101001) to characters that make up human-readable text (like \"hi\").\n"
      ]
    },
    {
      "cell_type": "code",
      "metadata": {
        "id": "bHGcjxHR7Z24"
      },
      "source": [
        "# modules we'll use\n",
        "import pandas as pd\n",
        "import numpy as np\n",
        "\n",
        "# helpful character encoding module\n",
        "import chardet"
      ],
      "execution_count": null,
      "outputs": []
    },
    {
      "cell_type": "code",
      "metadata": {
        "colab": {
          "base_uri": "https://localhost:8080/"
        },
        "id": "52pzhLpv7aA6",
        "outputId": "182d35cd-4375-4376-ce49-56e54444e1da"
      },
      "source": [
        "# start with a string\n",
        "before = \"This is the euro symbol: €\"\n",
        "\n",
        "# check to see what datatype it is\n",
        "type(before)"
      ],
      "execution_count": null,
      "outputs": [
        {
          "output_type": "execute_result",
          "data": {
            "text/plain": [
              "str"
            ]
          },
          "metadata": {
            "tags": []
          },
          "execution_count": 23
        }
      ]
    },
    {
      "cell_type": "code",
      "metadata": {
        "colab": {
          "base_uri": "https://localhost:8080/"
        },
        "id": "X1ujnMZ9AXFv",
        "outputId": "9491f3c2-c90d-4754-db62-bd7c04958b48"
      },
      "source": [
        "# encode it to a different encoding, replacing characters that raise errors\n",
        "after = before.encode(\"utf-8\", errors=\"replace\")\n",
        "\n",
        "# check the type\n",
        "type(after)"
      ],
      "execution_count": null,
      "outputs": [
        {
          "output_type": "execute_result",
          "data": {
            "text/plain": [
              "bytes"
            ]
          },
          "metadata": {
            "tags": []
          },
          "execution_count": 24
        }
      ]
    },
    {
      "cell_type": "code",
      "metadata": {
        "colab": {
          "base_uri": "https://localhost:8080/"
        },
        "id": "G34xRQOTAsfh",
        "outputId": "37151324-08e2-49f2-e24c-eb0963bb7847"
      },
      "source": [
        "after"
      ],
      "execution_count": null,
      "outputs": [
        {
          "output_type": "execute_result",
          "data": {
            "text/plain": [
              "b'This is the euro symbol: \\xe2\\x82\\xac'"
            ]
          },
          "metadata": {
            "tags": []
          },
          "execution_count": 25
        }
      ]
    },
    {
      "cell_type": "code",
      "metadata": {
        "colab": {
          "base_uri": "https://localhost:8080/"
        },
        "id": "MHHtDRsjAxlJ",
        "outputId": "e322376a-f241-48c9-baf9-a5b4caf06c84"
      },
      "source": [
        "# convert it back to utf-8\n",
        "print(after.decode(\"utf-8\"))"
      ],
      "execution_count": null,
      "outputs": [
        {
          "output_type": "stream",
          "text": [
            "This is the euro symbol: €\n"
          ],
          "name": "stdout"
        }
      ]
    },
    {
      "cell_type": "code",
      "metadata": {
        "colab": {
          "base_uri": "https://localhost:8080/",
          "height": 180
        },
        "id": "Bekb508TAxv8",
        "outputId": "52c11b91-dc01-49c5-b9a3-0666ab264c02"
      },
      "source": [
        "# try to decode our bytes with the ascii encoding\n",
        "print(after.decode(\"ascii\"))\n"
      ],
      "execution_count": null,
      "outputs": [
        {
          "output_type": "error",
          "ename": "UnicodeDecodeError",
          "evalue": "ignored",
          "traceback": [
            "\u001b[0;31m---------------------------------------------------------------------------\u001b[0m",
            "\u001b[0;31mUnicodeDecodeError\u001b[0m                        Traceback (most recent call last)",
            "\u001b[0;32m<ipython-input-27-50fd8662e3ae>\u001b[0m in \u001b[0;36m<module>\u001b[0;34m()\u001b[0m\n\u001b[1;32m      1\u001b[0m \u001b[0;31m# try to decode our bytes with the ascii encoding\u001b[0m\u001b[0;34m\u001b[0m\u001b[0;34m\u001b[0m\u001b[0;34m\u001b[0m\u001b[0m\n\u001b[0;32m----> 2\u001b[0;31m \u001b[0mprint\u001b[0m\u001b[0;34m(\u001b[0m\u001b[0mafter\u001b[0m\u001b[0;34m.\u001b[0m\u001b[0mdecode\u001b[0m\u001b[0;34m(\u001b[0m\u001b[0;34m\"ascii\"\u001b[0m\u001b[0;34m)\u001b[0m\u001b[0;34m)\u001b[0m\u001b[0;34m\u001b[0m\u001b[0;34m\u001b[0m\u001b[0m\n\u001b[0m",
            "\u001b[0;31mUnicodeDecodeError\u001b[0m: 'ascii' codec can't decode byte 0xe2 in position 25: ordinal not in range(128)"
          ]
        }
      ]
    },
    {
      "cell_type": "code",
      "metadata": {
        "colab": {
          "base_uri": "https://localhost:8080/"
        },
        "id": "rp83ClXEA9Xd",
        "outputId": "5cde413a-768f-42b0-d8b3-41de7256ec35"
      },
      "source": [
        "# start with a string\n",
        "before = \"This is the euro symbol: €\"\n",
        "\n",
        "# encode it to a different encoding, replacing characters that raise errors\n",
        "after = before.encode(\"ascii\", errors = \"replace\")\n",
        "\n",
        "# convert it back to utf-8\n",
        "print(after.decode(\"ascii\"))\n",
        "\n",
        "# We've lost the original underlying byte string! It's been \n",
        "# replaced with the underlying byte string for the unknown character :("
      ],
      "execution_count": null,
      "outputs": [
        {
          "output_type": "stream",
          "text": [
            "This is the euro symbol: ?\n"
          ],
          "name": "stdout"
        }
      ]
    },
    {
      "cell_type": "code",
      "metadata": {
        "colab": {
          "base_uri": "https://localhost:8080/",
          "height": 816
        },
        "id": "gUG5AAzlBlxf",
        "outputId": "a30f138d-5dcf-4f97-9d24-84a60e255612"
      },
      "source": [
        "# try to read in a file not in UTF-8\n",
        "kickstarter_2016 = pd.read_csv(\"/content/drive/MyDrive/datasets/ks-projects-201612.csv\")"
      ],
      "execution_count": null,
      "outputs": [
        {
          "output_type": "error",
          "ename": "UnicodeDecodeError",
          "evalue": "ignored",
          "traceback": [
            "\u001b[0;31m---------------------------------------------------------------------------\u001b[0m",
            "\u001b[0;31mUnicodeDecodeError\u001b[0m                        Traceback (most recent call last)",
            "\u001b[0;32mpandas/_libs/parsers.pyx\u001b[0m in \u001b[0;36mpandas._libs.parsers.TextReader._convert_tokens\u001b[0;34m()\u001b[0m\n",
            "\u001b[0;32mpandas/_libs/parsers.pyx\u001b[0m in \u001b[0;36mpandas._libs.parsers.TextReader._convert_with_dtype\u001b[0;34m()\u001b[0m\n",
            "\u001b[0;32mpandas/_libs/parsers.pyx\u001b[0m in \u001b[0;36mpandas._libs.parsers.TextReader._string_convert\u001b[0;34m()\u001b[0m\n",
            "\u001b[0;32mpandas/_libs/parsers.pyx\u001b[0m in \u001b[0;36mpandas._libs.parsers._string_box_utf8\u001b[0;34m()\u001b[0m\n",
            "\u001b[0;31mUnicodeDecodeError\u001b[0m: 'utf-8' codec can't decode byte 0x99 in position 11: invalid start byte",
            "\nDuring handling of the above exception, another exception occurred:\n",
            "\u001b[0;31mUnicodeDecodeError\u001b[0m                        Traceback (most recent call last)",
            "\u001b[0;32m<ipython-input-29-87602e409699>\u001b[0m in \u001b[0;36m<module>\u001b[0;34m()\u001b[0m\n\u001b[1;32m      1\u001b[0m \u001b[0;31m# try to read in a file not in UTF-8\u001b[0m\u001b[0;34m\u001b[0m\u001b[0;34m\u001b[0m\u001b[0;34m\u001b[0m\u001b[0m\n\u001b[0;32m----> 2\u001b[0;31m \u001b[0mkickstarter_2016\u001b[0m \u001b[0;34m=\u001b[0m \u001b[0mpd\u001b[0m\u001b[0;34m.\u001b[0m\u001b[0mread_csv\u001b[0m\u001b[0;34m(\u001b[0m\u001b[0;34m\"/content/drive/MyDrive/datasets/ks-projects-201612.csv\"\u001b[0m\u001b[0;34m)\u001b[0m\u001b[0;34m\u001b[0m\u001b[0;34m\u001b[0m\u001b[0m\n\u001b[0m",
            "\u001b[0;32m/usr/local/lib/python3.7/dist-packages/pandas/io/parsers.py\u001b[0m in \u001b[0;36mread_csv\u001b[0;34m(filepath_or_buffer, sep, delimiter, header, names, index_col, usecols, squeeze, prefix, mangle_dupe_cols, dtype, engine, converters, true_values, false_values, skipinitialspace, skiprows, skipfooter, nrows, na_values, keep_default_na, na_filter, verbose, skip_blank_lines, parse_dates, infer_datetime_format, keep_date_col, date_parser, dayfirst, cache_dates, iterator, chunksize, compression, thousands, decimal, lineterminator, quotechar, quoting, doublequote, escapechar, comment, encoding, dialect, error_bad_lines, warn_bad_lines, delim_whitespace, low_memory, memory_map, float_precision)\u001b[0m\n\u001b[1;32m    686\u001b[0m     )\n\u001b[1;32m    687\u001b[0m \u001b[0;34m\u001b[0m\u001b[0m\n\u001b[0;32m--> 688\u001b[0;31m     \u001b[0;32mreturn\u001b[0m \u001b[0m_read\u001b[0m\u001b[0;34m(\u001b[0m\u001b[0mfilepath_or_buffer\u001b[0m\u001b[0;34m,\u001b[0m \u001b[0mkwds\u001b[0m\u001b[0;34m)\u001b[0m\u001b[0;34m\u001b[0m\u001b[0;34m\u001b[0m\u001b[0m\n\u001b[0m\u001b[1;32m    689\u001b[0m \u001b[0;34m\u001b[0m\u001b[0m\n\u001b[1;32m    690\u001b[0m \u001b[0;34m\u001b[0m\u001b[0m\n",
            "\u001b[0;32m/usr/local/lib/python3.7/dist-packages/pandas/io/parsers.py\u001b[0m in \u001b[0;36m_read\u001b[0;34m(filepath_or_buffer, kwds)\u001b[0m\n\u001b[1;32m    458\u001b[0m \u001b[0;34m\u001b[0m\u001b[0m\n\u001b[1;32m    459\u001b[0m     \u001b[0;32mtry\u001b[0m\u001b[0;34m:\u001b[0m\u001b[0;34m\u001b[0m\u001b[0;34m\u001b[0m\u001b[0m\n\u001b[0;32m--> 460\u001b[0;31m         \u001b[0mdata\u001b[0m \u001b[0;34m=\u001b[0m \u001b[0mparser\u001b[0m\u001b[0;34m.\u001b[0m\u001b[0mread\u001b[0m\u001b[0;34m(\u001b[0m\u001b[0mnrows\u001b[0m\u001b[0;34m)\u001b[0m\u001b[0;34m\u001b[0m\u001b[0;34m\u001b[0m\u001b[0m\n\u001b[0m\u001b[1;32m    461\u001b[0m     \u001b[0;32mfinally\u001b[0m\u001b[0;34m:\u001b[0m\u001b[0;34m\u001b[0m\u001b[0;34m\u001b[0m\u001b[0m\n\u001b[1;32m    462\u001b[0m         \u001b[0mparser\u001b[0m\u001b[0;34m.\u001b[0m\u001b[0mclose\u001b[0m\u001b[0;34m(\u001b[0m\u001b[0;34m)\u001b[0m\u001b[0;34m\u001b[0m\u001b[0;34m\u001b[0m\u001b[0m\n",
            "\u001b[0;32m/usr/local/lib/python3.7/dist-packages/pandas/io/parsers.py\u001b[0m in \u001b[0;36mread\u001b[0;34m(self, nrows)\u001b[0m\n\u001b[1;32m   1196\u001b[0m     \u001b[0;32mdef\u001b[0m \u001b[0mread\u001b[0m\u001b[0;34m(\u001b[0m\u001b[0mself\u001b[0m\u001b[0;34m,\u001b[0m \u001b[0mnrows\u001b[0m\u001b[0;34m=\u001b[0m\u001b[0;32mNone\u001b[0m\u001b[0;34m)\u001b[0m\u001b[0;34m:\u001b[0m\u001b[0;34m\u001b[0m\u001b[0;34m\u001b[0m\u001b[0m\n\u001b[1;32m   1197\u001b[0m         \u001b[0mnrows\u001b[0m \u001b[0;34m=\u001b[0m \u001b[0m_validate_integer\u001b[0m\u001b[0;34m(\u001b[0m\u001b[0;34m\"nrows\"\u001b[0m\u001b[0;34m,\u001b[0m \u001b[0mnrows\u001b[0m\u001b[0;34m)\u001b[0m\u001b[0;34m\u001b[0m\u001b[0;34m\u001b[0m\u001b[0m\n\u001b[0;32m-> 1198\u001b[0;31m         \u001b[0mret\u001b[0m \u001b[0;34m=\u001b[0m \u001b[0mself\u001b[0m\u001b[0;34m.\u001b[0m\u001b[0m_engine\u001b[0m\u001b[0;34m.\u001b[0m\u001b[0mread\u001b[0m\u001b[0;34m(\u001b[0m\u001b[0mnrows\u001b[0m\u001b[0;34m)\u001b[0m\u001b[0;34m\u001b[0m\u001b[0;34m\u001b[0m\u001b[0m\n\u001b[0m\u001b[1;32m   1199\u001b[0m \u001b[0;34m\u001b[0m\u001b[0m\n\u001b[1;32m   1200\u001b[0m         \u001b[0;31m# May alter columns / col_dict\u001b[0m\u001b[0;34m\u001b[0m\u001b[0;34m\u001b[0m\u001b[0;34m\u001b[0m\u001b[0m\n",
            "\u001b[0;32m/usr/local/lib/python3.7/dist-packages/pandas/io/parsers.py\u001b[0m in \u001b[0;36mread\u001b[0;34m(self, nrows)\u001b[0m\n\u001b[1;32m   2155\u001b[0m     \u001b[0;32mdef\u001b[0m \u001b[0mread\u001b[0m\u001b[0;34m(\u001b[0m\u001b[0mself\u001b[0m\u001b[0;34m,\u001b[0m \u001b[0mnrows\u001b[0m\u001b[0;34m=\u001b[0m\u001b[0;32mNone\u001b[0m\u001b[0;34m)\u001b[0m\u001b[0;34m:\u001b[0m\u001b[0;34m\u001b[0m\u001b[0;34m\u001b[0m\u001b[0m\n\u001b[1;32m   2156\u001b[0m         \u001b[0;32mtry\u001b[0m\u001b[0;34m:\u001b[0m\u001b[0;34m\u001b[0m\u001b[0;34m\u001b[0m\u001b[0m\n\u001b[0;32m-> 2157\u001b[0;31m             \u001b[0mdata\u001b[0m \u001b[0;34m=\u001b[0m \u001b[0mself\u001b[0m\u001b[0;34m.\u001b[0m\u001b[0m_reader\u001b[0m\u001b[0;34m.\u001b[0m\u001b[0mread\u001b[0m\u001b[0;34m(\u001b[0m\u001b[0mnrows\u001b[0m\u001b[0;34m)\u001b[0m\u001b[0;34m\u001b[0m\u001b[0;34m\u001b[0m\u001b[0m\n\u001b[0m\u001b[1;32m   2158\u001b[0m         \u001b[0;32mexcept\u001b[0m \u001b[0mStopIteration\u001b[0m\u001b[0;34m:\u001b[0m\u001b[0;34m\u001b[0m\u001b[0;34m\u001b[0m\u001b[0m\n\u001b[1;32m   2159\u001b[0m             \u001b[0;32mif\u001b[0m \u001b[0mself\u001b[0m\u001b[0;34m.\u001b[0m\u001b[0m_first_chunk\u001b[0m\u001b[0;34m:\u001b[0m\u001b[0;34m\u001b[0m\u001b[0;34m\u001b[0m\u001b[0m\n",
            "\u001b[0;32mpandas/_libs/parsers.pyx\u001b[0m in \u001b[0;36mpandas._libs.parsers.TextReader.read\u001b[0;34m()\u001b[0m\n",
            "\u001b[0;32mpandas/_libs/parsers.pyx\u001b[0m in \u001b[0;36mpandas._libs.parsers.TextReader._read_low_memory\u001b[0;34m()\u001b[0m\n",
            "\u001b[0;32mpandas/_libs/parsers.pyx\u001b[0m in \u001b[0;36mpandas._libs.parsers.TextReader._read_rows\u001b[0;34m()\u001b[0m\n",
            "\u001b[0;32mpandas/_libs/parsers.pyx\u001b[0m in \u001b[0;36mpandas._libs.parsers.TextReader._convert_column_data\u001b[0;34m()\u001b[0m\n",
            "\u001b[0;32mpandas/_libs/parsers.pyx\u001b[0m in \u001b[0;36mpandas._libs.parsers.TextReader._convert_tokens\u001b[0;34m()\u001b[0m\n",
            "\u001b[0;32mpandas/_libs/parsers.pyx\u001b[0m in \u001b[0;36mpandas._libs.parsers.TextReader._convert_with_dtype\u001b[0;34m()\u001b[0m\n",
            "\u001b[0;32mpandas/_libs/parsers.pyx\u001b[0m in \u001b[0;36mpandas._libs.parsers.TextReader._string_convert\u001b[0;34m()\u001b[0m\n",
            "\u001b[0;32mpandas/_libs/parsers.pyx\u001b[0m in \u001b[0;36mpandas._libs.parsers._string_box_utf8\u001b[0;34m()\u001b[0m\n",
            "\u001b[0;31mUnicodeDecodeError\u001b[0m: 'utf-8' codec can't decode byte 0x99 in position 11: invalid start byte"
          ]
        }
      ]
    },
    {
      "cell_type": "code",
      "metadata": {
        "colab": {
          "base_uri": "https://localhost:8080/"
        },
        "id": "rvoskkF5Bl9v",
        "outputId": "01f331a1-a809-48a6-de46-583441021e4f"
      },
      "source": [
        "# look at the first ten thousand bytes to guess the character encoding\n",
        "with open(\"/content/drive/MyDrive/datasets/ks-projects-201612.csv\", 'rb') as rawdata:\n",
        "    result = chardet.detect(rawdata.read(10000))\n",
        "\n",
        "# check what the character encoding might be\n",
        "print(result)"
      ],
      "execution_count": null,
      "outputs": [
        {
          "output_type": "stream",
          "text": [
            "{'encoding': 'Windows-1252', 'confidence': 0.73, 'language': ''}\n"
          ],
          "name": "stdout"
        }
      ]
    },
    {
      "cell_type": "code",
      "metadata": {
        "colab": {
          "base_uri": "https://localhost:8080/",
          "height": 496
        },
        "id": "aJZdUv7_BmJB",
        "outputId": "edfc9499-1648-4c8d-d31f-0f1d60448963"
      },
      "source": [
        "# read in the file with the encoding detected by chardet\n",
        "kickstarter_2016 = pd.read_csv(\"/content/drive/MyDrive/datasets/ks-projects-201612.csv\", encoding='Windows-1252')\n",
        "\n",
        "# look at the first few lines\n",
        "kickstarter_2016.head()"
      ],
      "execution_count": null,
      "outputs": [
        {
          "output_type": "stream",
          "text": [
            "/usr/local/lib/python3.7/dist-packages/IPython/core/interactiveshell.py:2718: DtypeWarning: Columns (13,14,15) have mixed types.Specify dtype option on import or set low_memory=False.\n",
            "  interactivity=interactivity, compiler=compiler, result=result)\n"
          ],
          "name": "stderr"
        },
        {
          "output_type": "execute_result",
          "data": {
            "text/html": [
              "<div>\n",
              "<style scoped>\n",
              "    .dataframe tbody tr th:only-of-type {\n",
              "        vertical-align: middle;\n",
              "    }\n",
              "\n",
              "    .dataframe tbody tr th {\n",
              "        vertical-align: top;\n",
              "    }\n",
              "\n",
              "    .dataframe thead th {\n",
              "        text-align: right;\n",
              "    }\n",
              "</style>\n",
              "<table border=\"1\" class=\"dataframe\">\n",
              "  <thead>\n",
              "    <tr style=\"text-align: right;\">\n",
              "      <th></th>\n",
              "      <th>ID</th>\n",
              "      <th>name</th>\n",
              "      <th>category</th>\n",
              "      <th>main_category</th>\n",
              "      <th>currency</th>\n",
              "      <th>deadline</th>\n",
              "      <th>goal</th>\n",
              "      <th>launched</th>\n",
              "      <th>pledged</th>\n",
              "      <th>state</th>\n",
              "      <th>backers</th>\n",
              "      <th>country</th>\n",
              "      <th>usd pledged</th>\n",
              "      <th>Unnamed: 13</th>\n",
              "      <th>Unnamed: 14</th>\n",
              "      <th>Unnamed: 15</th>\n",
              "      <th>Unnamed: 16</th>\n",
              "    </tr>\n",
              "  </thead>\n",
              "  <tbody>\n",
              "    <tr>\n",
              "      <th>0</th>\n",
              "      <td>1000002330</td>\n",
              "      <td>The Songs of Adelaide &amp; Abullah</td>\n",
              "      <td>Poetry</td>\n",
              "      <td>Publishing</td>\n",
              "      <td>GBP</td>\n",
              "      <td>2015-10-09 11:36:00</td>\n",
              "      <td>1000</td>\n",
              "      <td>2015-08-11 12:12:28</td>\n",
              "      <td>0</td>\n",
              "      <td>failed</td>\n",
              "      <td>0</td>\n",
              "      <td>GB</td>\n",
              "      <td>0</td>\n",
              "      <td>NaN</td>\n",
              "      <td>NaN</td>\n",
              "      <td>NaN</td>\n",
              "      <td>NaN</td>\n",
              "    </tr>\n",
              "    <tr>\n",
              "      <th>1</th>\n",
              "      <td>1000004038</td>\n",
              "      <td>Where is Hank?</td>\n",
              "      <td>Narrative Film</td>\n",
              "      <td>Film &amp; Video</td>\n",
              "      <td>USD</td>\n",
              "      <td>2013-02-26 00:20:50</td>\n",
              "      <td>45000</td>\n",
              "      <td>2013-01-12 00:20:50</td>\n",
              "      <td>220</td>\n",
              "      <td>failed</td>\n",
              "      <td>3</td>\n",
              "      <td>US</td>\n",
              "      <td>220</td>\n",
              "      <td>NaN</td>\n",
              "      <td>NaN</td>\n",
              "      <td>NaN</td>\n",
              "      <td>NaN</td>\n",
              "    </tr>\n",
              "    <tr>\n",
              "      <th>2</th>\n",
              "      <td>1000007540</td>\n",
              "      <td>ToshiCapital Rekordz Needs Help to Complete Album</td>\n",
              "      <td>Music</td>\n",
              "      <td>Music</td>\n",
              "      <td>USD</td>\n",
              "      <td>2012-04-16 04:24:11</td>\n",
              "      <td>5000</td>\n",
              "      <td>2012-03-17 03:24:11</td>\n",
              "      <td>1</td>\n",
              "      <td>failed</td>\n",
              "      <td>1</td>\n",
              "      <td>US</td>\n",
              "      <td>1</td>\n",
              "      <td>NaN</td>\n",
              "      <td>NaN</td>\n",
              "      <td>NaN</td>\n",
              "      <td>NaN</td>\n",
              "    </tr>\n",
              "    <tr>\n",
              "      <th>3</th>\n",
              "      <td>1000011046</td>\n",
              "      <td>Community Film Project: The Art of Neighborhoo...</td>\n",
              "      <td>Film &amp; Video</td>\n",
              "      <td>Film &amp; Video</td>\n",
              "      <td>USD</td>\n",
              "      <td>2015-08-29 01:00:00</td>\n",
              "      <td>19500</td>\n",
              "      <td>2015-07-04 08:35:03</td>\n",
              "      <td>1283</td>\n",
              "      <td>canceled</td>\n",
              "      <td>14</td>\n",
              "      <td>US</td>\n",
              "      <td>1283</td>\n",
              "      <td>NaN</td>\n",
              "      <td>NaN</td>\n",
              "      <td>NaN</td>\n",
              "      <td>NaN</td>\n",
              "    </tr>\n",
              "    <tr>\n",
              "      <th>4</th>\n",
              "      <td>1000014025</td>\n",
              "      <td>Monarch Espresso Bar</td>\n",
              "      <td>Restaurants</td>\n",
              "      <td>Food</td>\n",
              "      <td>USD</td>\n",
              "      <td>2016-04-01 13:38:27</td>\n",
              "      <td>50000</td>\n",
              "      <td>2016-02-26 13:38:27</td>\n",
              "      <td>52375</td>\n",
              "      <td>successful</td>\n",
              "      <td>224</td>\n",
              "      <td>US</td>\n",
              "      <td>52375</td>\n",
              "      <td>NaN</td>\n",
              "      <td>NaN</td>\n",
              "      <td>NaN</td>\n",
              "      <td>NaN</td>\n",
              "    </tr>\n",
              "  </tbody>\n",
              "</table>\n",
              "</div>"
            ],
            "text/plain": [
              "          ID   ... Unnamed: 16\n",
              "0  1000002330  ...         NaN\n",
              "1  1000004038  ...         NaN\n",
              "2  1000007540  ...         NaN\n",
              "3  1000011046  ...         NaN\n",
              "4  1000014025  ...         NaN\n",
              "\n",
              "[5 rows x 17 columns]"
            ]
          },
          "metadata": {
            "tags": []
          },
          "execution_count": 32
        }
      ]
    },
    {
      "cell_type": "code",
      "metadata": {
        "id": "23qWzGMWCiH5"
      },
      "source": [
        "# save our file (will be saved as UTF-8 by default!)\n",
        "kickstarter_2016.to_csv(\"ks-projects-201801-utf8.csv\")"
      ],
      "execution_count": null,
      "outputs": []
    },
    {
      "cell_type": "markdown",
      "metadata": {
        "id": "AE-nmLwtEPam"
      },
      "source": [
        "**Inconsistent Data Entries**"
      ]
    },
    {
      "cell_type": "code",
      "metadata": {
        "colab": {
          "base_uri": "https://localhost:8080/"
        },
        "id": "AQO6iJ56KNZR",
        "outputId": "5105c9bc-1a2a-4b16-83d6-4f74e5dd14c4"
      },
      "source": [
        "!pip install fuzzywuzzy"
      ],
      "execution_count": null,
      "outputs": [
        {
          "output_type": "stream",
          "text": [
            "Collecting fuzzywuzzy\n",
            "  Downloading https://files.pythonhosted.org/packages/43/ff/74f23998ad2f93b945c0309f825be92e04e0348e062026998b5eefef4c33/fuzzywuzzy-0.18.0-py2.py3-none-any.whl\n",
            "Installing collected packages: fuzzywuzzy\n",
            "Successfully installed fuzzywuzzy-0.18.0\n"
          ],
          "name": "stdout"
        }
      ]
    },
    {
      "cell_type": "code",
      "metadata": {
        "colab": {
          "base_uri": "https://localhost:8080/"
        },
        "id": "bQlcvknSCiVe",
        "outputId": "0870215c-b393-4c31-da6e-eb5447848c54"
      },
      "source": [
        "# modules we'll use\n",
        "import pandas as pd\n",
        "import numpy as np\n",
        "\n",
        "# helpful modules\n",
        "import fuzzywuzzy\n",
        "from fuzzywuzzy import process\n",
        "import chardet\n",
        "\n",
        "# read in all our data\n",
        "professors = pd.read_csv(\"/content/drive/MyDrive/datasets/pakistan_intellectual_capital.csv\")"
      ],
      "execution_count": null,
      "outputs": [
        {
          "output_type": "stream",
          "text": [
            "/usr/local/lib/python3.7/dist-packages/fuzzywuzzy/fuzz.py:11: UserWarning: Using slow pure-python SequenceMatcher. Install python-Levenshtein to remove this warning\n",
            "  warnings.warn('Using slow pure-python SequenceMatcher. Install python-Levenshtein to remove this warning')\n"
          ],
          "name": "stderr"
        }
      ]
    },
    {
      "cell_type": "code",
      "metadata": {
        "colab": {
          "base_uri": "https://localhost:8080/",
          "height": 462
        },
        "id": "I480PR-4EUcw",
        "outputId": "85d2a05f-ab87-447d-b1f4-650c3dfbdb38"
      },
      "source": [
        "professors.head()"
      ],
      "execution_count": null,
      "outputs": [
        {
          "output_type": "execute_result",
          "data": {
            "text/html": [
              "<div>\n",
              "<style scoped>\n",
              "    .dataframe tbody tr th:only-of-type {\n",
              "        vertical-align: middle;\n",
              "    }\n",
              "\n",
              "    .dataframe tbody tr th {\n",
              "        vertical-align: top;\n",
              "    }\n",
              "\n",
              "    .dataframe thead th {\n",
              "        text-align: right;\n",
              "    }\n",
              "</style>\n",
              "<table border=\"1\" class=\"dataframe\">\n",
              "  <thead>\n",
              "    <tr style=\"text-align: right;\">\n",
              "      <th></th>\n",
              "      <th>Unnamed: 0</th>\n",
              "      <th>S#</th>\n",
              "      <th>Teacher Name</th>\n",
              "      <th>University Currently Teaching</th>\n",
              "      <th>Department</th>\n",
              "      <th>Province University Located</th>\n",
              "      <th>Designation</th>\n",
              "      <th>Terminal Degree</th>\n",
              "      <th>Graduated from</th>\n",
              "      <th>Country</th>\n",
              "      <th>Year</th>\n",
              "      <th>Area of Specialization/Research Interests</th>\n",
              "      <th>Other Information</th>\n",
              "    </tr>\n",
              "  </thead>\n",
              "  <tbody>\n",
              "    <tr>\n",
              "      <th>0</th>\n",
              "      <td>2</td>\n",
              "      <td>3</td>\n",
              "      <td>Dr. Abdul Basit</td>\n",
              "      <td>University of Balochistan</td>\n",
              "      <td>Computer Science &amp; IT</td>\n",
              "      <td>Balochistan</td>\n",
              "      <td>Assistant Professor</td>\n",
              "      <td>PhD</td>\n",
              "      <td>Asian Institute of Technology</td>\n",
              "      <td>Thailand</td>\n",
              "      <td>NaN</td>\n",
              "      <td>Software Engineering &amp; DBMS</td>\n",
              "      <td>NaN</td>\n",
              "    </tr>\n",
              "    <tr>\n",
              "      <th>1</th>\n",
              "      <td>4</td>\n",
              "      <td>5</td>\n",
              "      <td>Dr. Waheed Noor</td>\n",
              "      <td>University of Balochistan</td>\n",
              "      <td>Computer Science &amp; IT</td>\n",
              "      <td>Balochistan</td>\n",
              "      <td>Assistant Professor</td>\n",
              "      <td>PhD</td>\n",
              "      <td>Asian Institute of Technology</td>\n",
              "      <td>Thailand</td>\n",
              "      <td>NaN</td>\n",
              "      <td>DBMS</td>\n",
              "      <td>NaN</td>\n",
              "    </tr>\n",
              "    <tr>\n",
              "      <th>2</th>\n",
              "      <td>5</td>\n",
              "      <td>6</td>\n",
              "      <td>Dr. Junaid Baber</td>\n",
              "      <td>University of Balochistan</td>\n",
              "      <td>Computer Science &amp; IT</td>\n",
              "      <td>Balochistan</td>\n",
              "      <td>Assistant Professor</td>\n",
              "      <td>PhD</td>\n",
              "      <td>Asian Institute of Technology</td>\n",
              "      <td>Thailand</td>\n",
              "      <td>NaN</td>\n",
              "      <td>Information processing, Multimedia mining</td>\n",
              "      <td>NaN</td>\n",
              "    </tr>\n",
              "    <tr>\n",
              "      <th>3</th>\n",
              "      <td>6</td>\n",
              "      <td>7</td>\n",
              "      <td>Dr. Maheen Bakhtyar</td>\n",
              "      <td>University of Balochistan</td>\n",
              "      <td>Computer Science &amp; IT</td>\n",
              "      <td>Balochistan</td>\n",
              "      <td>Assistant Professor</td>\n",
              "      <td>PhD</td>\n",
              "      <td>Asian Institute of Technology</td>\n",
              "      <td>Thailand</td>\n",
              "      <td>NaN</td>\n",
              "      <td>NLP, Information Retrieval, Question Answering...</td>\n",
              "      <td>NaN</td>\n",
              "    </tr>\n",
              "    <tr>\n",
              "      <th>4</th>\n",
              "      <td>24</td>\n",
              "      <td>25</td>\n",
              "      <td>Samina Azim</td>\n",
              "      <td>Sardar Bahadur Khan Women's University</td>\n",
              "      <td>Computer Science</td>\n",
              "      <td>Balochistan</td>\n",
              "      <td>Lecturer</td>\n",
              "      <td>BS</td>\n",
              "      <td>Balochistan University of Information Technolo...</td>\n",
              "      <td>Pakistan</td>\n",
              "      <td>2005.0</td>\n",
              "      <td>VLSI Electronics DLD Database</td>\n",
              "      <td>NaN</td>\n",
              "    </tr>\n",
              "  </tbody>\n",
              "</table>\n",
              "</div>"
            ],
            "text/plain": [
              "   Unnamed: 0  ...  Other Information\n",
              "0           2  ...                NaN\n",
              "1           4  ...                NaN\n",
              "2           5  ...                NaN\n",
              "3           6  ...                NaN\n",
              "4          24  ...                NaN\n",
              "\n",
              "[5 rows x 13 columns]"
            ]
          },
          "metadata": {
            "tags": []
          },
          "execution_count": 37
        }
      ]
    },
    {
      "cell_type": "code",
      "metadata": {
        "colab": {
          "base_uri": "https://localhost:8080/"
        },
        "id": "u-uloAWJEUgG",
        "outputId": "9e07073f-9d96-4be2-a117-07e5b44d07cc"
      },
      "source": [
        "# get all the unique values in the 'Country' column\n",
        "countries = professors['Country'].unique()\n",
        "\n",
        "# sort them alphabetically and then take a closer look\n",
        "countries.sort()\n",
        "countries\n",
        "#inconsistent data entry: ' Germany', and 'germany', for example, or ' New Zealand' and 'New Zealand"
      ],
      "execution_count": null,
      "outputs": [
        {
          "output_type": "execute_result",
          "data": {
            "text/plain": [
              "array([' Germany', ' New Zealand', ' Sweden', ' USA', 'Australia',\n",
              "       'Austria', 'Canada', 'China', 'Finland', 'France', 'Greece',\n",
              "       'HongKong', 'Ireland', 'Italy', 'Japan', 'Macau', 'Malaysia',\n",
              "       'Mauritius', 'Netherland', 'New Zealand', 'Norway', 'Pakistan',\n",
              "       'Portugal', 'Russian Federation', 'Saudi Arabia', 'Scotland',\n",
              "       'Singapore', 'South Korea', 'SouthKorea', 'Spain', 'Sweden',\n",
              "       'Thailand', 'Turkey', 'UK', 'USA', 'USofA', 'Urbana', 'germany'],\n",
              "      dtype=object)"
            ]
          },
          "metadata": {
            "tags": []
          },
          "execution_count": 38
        }
      ]
    },
    {
      "cell_type": "code",
      "metadata": {
        "id": "ARK3_RLaEUjz"
      },
      "source": [
        "# convert to lower case\n",
        "professors['Country'] = professors['Country'].str.lower()\n",
        "# remove trailing white spaces\n",
        "professors['Country'] = professors['Country'].str.strip()"
      ],
      "execution_count": null,
      "outputs": []
    },
    {
      "cell_type": "code",
      "metadata": {
        "colab": {
          "base_uri": "https://localhost:8080/"
        },
        "id": "jf6MgrE3EUwm",
        "outputId": "7f7ddcb9-ed82-47bf-97ca-968baac3ab30"
      },
      "source": [
        "# get all the unique values in the 'Country' column\n",
        "countries = professors['Country'].unique()\n",
        "\n",
        "# sort them alphabetically and then take a closer look\n",
        "countries.sort()\n",
        "countries \n",
        "#south korea"
      ],
      "execution_count": null,
      "outputs": [
        {
          "output_type": "execute_result",
          "data": {
            "text/plain": [
              "array(['australia', 'austria', 'canada', 'china', 'finland', 'france',\n",
              "       'germany', 'greece', 'hongkong', 'ireland', 'italy', 'japan',\n",
              "       'macau', 'malaysia', 'mauritius', 'netherland', 'new zealand',\n",
              "       'norway', 'pakistan', 'portugal', 'russian federation',\n",
              "       'saudi arabia', 'scotland', 'singapore', 'south korea',\n",
              "       'southkorea', 'spain', 'sweden', 'thailand', 'turkey', 'uk',\n",
              "       'urbana', 'usa', 'usofa'], dtype=object)"
            ]
          },
          "metadata": {
            "tags": []
          },
          "execution_count": 40
        }
      ]
    },
    {
      "cell_type": "code",
      "metadata": {
        "colab": {
          "base_uri": "https://localhost:8080/"
        },
        "id": "r0YgopXKEUz9",
        "outputId": "54a09134-3fb2-4ee1-c5b2-53bb34860f39"
      },
      "source": [
        "# get the top 10 closest matches to \"south korea\"\n",
        "matches = fuzzywuzzy.process.extract(\"south korea\", countries, limit=10, scorer=fuzzywuzzy.fuzz.token_sort_ratio)\n",
        "\n",
        "# take a look at them\n",
        "matches"
      ],
      "execution_count": null,
      "outputs": [
        {
          "output_type": "execute_result",
          "data": {
            "text/plain": [
              "[('south korea', 100),\n",
              " ('southkorea', 48),\n",
              " ('saudi arabia', 43),\n",
              " ('norway', 35),\n",
              " ('ireland', 33),\n",
              " ('portugal', 32),\n",
              " ('singapore', 30),\n",
              " ('netherland', 29),\n",
              " ('macau', 25),\n",
              " ('usofa', 25)]"
            ]
          },
          "metadata": {
            "tags": []
          },
          "execution_count": 41
        }
      ]
    },
    {
      "cell_type": "code",
      "metadata": {
        "id": "gQ23o8yVK1Tk"
      },
      "source": [
        "# function to replace rows in the provided column of the provided dataframe\n",
        "# that match the provided string above the provided ratio with the provided string\n",
        "def replace_matches_in_column(df, column, string_to_match, min_ratio = 47):\n",
        "    # get a list of unique strings\n",
        "    strings = df[column].unique()\n",
        "    \n",
        "    # get the top 10 closest matches to our input string\n",
        "    matches = fuzzywuzzy.process.extract(string_to_match, strings, \n",
        "                                         limit=10, scorer=fuzzywuzzy.fuzz.token_sort_ratio)\n",
        "\n",
        "    # only get matches with a ratio > 90\n",
        "    close_matches = [matches[0] for matches in matches if matches[1] >= min_ratio]\n",
        "\n",
        "    # get the rows of all the close matches in our dataframe\n",
        "    rows_with_matches = df[column].isin(close_matches)\n",
        "\n",
        "    # replace all rows with close matches with the input matches \n",
        "    df.loc[rows_with_matches, column] = string_to_match\n",
        "    \n",
        "    # let us know the function's done\n",
        "    print(\"All done!\")"
      ],
      "execution_count": null,
      "outputs": []
    },
    {
      "cell_type": "code",
      "metadata": {
        "colab": {
          "base_uri": "https://localhost:8080/"
        },
        "id": "tn_tb9X4K1Y_",
        "outputId": "e4ecb8b8-0f6b-48a8-f381-ab70fd0f6eda"
      },
      "source": [
        "# use the function we just wrote to replace close matches to \"south korea\" with \"south korea\"\n",
        "replace_matches_in_column(df=professors, column='Country', string_to_match=\"south korea\")"
      ],
      "execution_count": null,
      "outputs": [
        {
          "output_type": "stream",
          "text": [
            "All done!\n"
          ],
          "name": "stdout"
        }
      ]
    },
    {
      "cell_type": "code",
      "metadata": {
        "colab": {
          "base_uri": "https://localhost:8080/"
        },
        "id": "pZKzjNVXK1dw",
        "outputId": "3b9792b6-97d7-4ee5-9cdf-cdb25ef5eea0"
      },
      "source": [
        "# get all the unique values in the 'Country' column\n",
        "countries = professors['Country'].unique()\n",
        "\n",
        "# sort them alphabetically and then take a closer look\n",
        "countries.sort()\n",
        "countries"
      ],
      "execution_count": null,
      "outputs": [
        {
          "output_type": "execute_result",
          "data": {
            "text/plain": [
              "array(['australia', 'austria', 'canada', 'china', 'finland', 'france',\n",
              "       'germany', 'greece', 'hongkong', 'ireland', 'italy', 'japan',\n",
              "       'macau', 'malaysia', 'mauritius', 'netherland', 'new zealand',\n",
              "       'norway', 'pakistan', 'portugal', 'russian federation',\n",
              "       'saudi arabia', 'scotland', 'singapore', 'south korea', 'spain',\n",
              "       'sweden', 'thailand', 'turkey', 'uk', 'urbana', 'usa', 'usofa'],\n",
              "      dtype=object)"
            ]
          },
          "metadata": {
            "tags": []
          },
          "execution_count": 45
        }
      ]
    },
    {
      "cell_type": "code",
      "metadata": {
        "id": "eUUUWRk0K1ij"
      },
      "source": [
        ""
      ],
      "execution_count": null,
      "outputs": []
    },
    {
      "cell_type": "code",
      "metadata": {
        "id": "VPNcp4E3K1nY"
      },
      "source": [
        ""
      ],
      "execution_count": null,
      "outputs": []
    }
  ]
}