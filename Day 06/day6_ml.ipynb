{
  "nbformat": 4,
  "nbformat_minor": 0,
  "metadata": {
    "colab": {
      "name": "day6_ml.ipynb",
      "provenance": []
    },
    "kernelspec": {
      "name": "python3",
      "display_name": "Python 3"
    },
    "language_info": {
      "name": "python"
    }
  },
  "cells": [
    {
      "cell_type": "markdown",
      "metadata": {
        "id": "-_yKvm3waG_g"
      },
      "source": [
        "**Linear Regression**"
      ]
    },
    {
      "cell_type": "code",
      "metadata": {
        "id": "RcLgf4w1aCrL"
      },
      "source": [
        "#import libraries\n",
        "import numpy as np\n",
        "import pandas as pd\n",
        "import matplotlib.pyplot as plt\n",
        "from sklearn.linear_model import LinearRegression\n",
        "from sklearn.metrics import mean_squared_error, r2_score"
      ],
      "execution_count": null,
      "outputs": []
    },
    {
      "cell_type": "code",
      "metadata": {
        "id": "rK3pMmlParpy"
      },
      "source": [
        "#generate dataset\n",
        "np.random.seed(0)\n",
        "x = np.random.rand(100,1)\n",
        "y = 2 + 3*x + np.random.rand(100,1)"
      ],
      "execution_count": null,
      "outputs": []
    },
    {
      "cell_type": "code",
      "metadata": {
        "id": "j16VraTuar5N"
      },
      "source": [
        "#sckit-learn implementation\n",
        "model = LinearRegression()\n",
        "#fitting the dataset ---> training\n",
        "model.fit(x, y)\n",
        "#predict\n",
        "y_predicted = model.predict(x)"
      ],
      "execution_count": null,
      "outputs": []
    },
    {
      "cell_type": "code",
      "metadata": {
        "id": "guVcdXhoar88"
      },
      "source": [
        "#model evaluation\n",
        "rmse = mean_squared_error(y, y_predicted)\n",
        "r2 = r2_score(y, y_predicted)"
      ],
      "execution_count": null,
      "outputs": []
    },
    {
      "cell_type": "code",
      "metadata": {
        "colab": {
          "base_uri": "https://localhost:8080/"
        },
        "id": "Nu9L80DHasB6",
        "outputId": "f33eccd3-050d-4d81-df36-452a5eb581c5"
      },
      "source": [
        "#priting details of the model\n",
        "print('Slope: ', model.coef_)\n",
        "print('Intercept: ', model.intercept_)\n",
        "print('RMSE: ', rmse)\n",
        "print('R2 Score: ', r2)\n"
      ],
      "execution_count": null,
      "outputs": [
        {
          "output_type": "stream",
          "text": [
            "Slope:  [[2.93655106]]\n",
            "Intercept:  [2.55808002]\n",
            "RMSE:  0.07623324582875007\n",
            "R2 Score:  0.9038655568672764\n"
          ],
          "name": "stdout"
        }
      ]
    },
    {
      "cell_type": "code",
      "metadata": {
        "colab": {
          "base_uri": "https://localhost:8080/",
          "height": 279
        },
        "id": "UOrCEEd7asID",
        "outputId": "ab06bc18-62ec-4dc6-bd5d-9fa2fa5d7a61"
      },
      "source": [
        "#plot\n",
        "plt.scatter(x, y, s=10)\n",
        "plt.xlabel('x')\n",
        "plt.ylabel('y')\n",
        "\n",
        "plt.plot(x,y_predicted, color='r')\n",
        "plt.show()"
      ],
      "execution_count": null,
      "outputs": [
        {
          "output_type": "display_data",
          "data": {
            "image/png": "[encoded data removed]",
            "text/plain": [
              "<Figure size 432x288 with 1 Axes>"
            ]
          },
          "metadata": {
            "tags": [],
            "needs_background": "light"
          }
        }
      ]
    },
    {
      "cell_type": "code",
      "metadata": {
        "colab": {
          "base_uri": "https://localhost:8080/"
        },
        "id": "rye2Y102asMg",
        "outputId": "6b453531-55f7-46e4-8477-41d2d0793a46"
      },
      "source": [
        "#Python implementation (manual)\n",
        "n = 100\n",
        "alpha = 0.0001\n",
        "\n",
        "a_0 = np.zeros((n,1))\n",
        "a_1 = np.zeros((n,1))\n",
        "\n",
        "x_train = x\n",
        "y_train = y\n",
        "\n",
        "epochs =0\n",
        "\n",
        "while(epochs<1000):\n",
        "  y = a_0 + a_1*x_train\n",
        "  error = y - y_train\n",
        "  mean_sq_error = np.sum(error**2)\n",
        "  mean_sq_error = mean_sq_error/n\n",
        "  a_0 = a_0 - alpha*2*np.sum(error)/n\n",
        "  a_1 = a_1 - alpha*2*np.sum(error*x_train)/n\n",
        "  epochs+=1\n",
        "\n",
        "y_prediction = a_0 + a_1*x_train\n",
        "print('R2 Score: ', r2_score(y_train, y_prediction))"
      ],
      "execution_count": null,
      "outputs": [
        {
          "output_type": "stream",
          "text": [
            "R2 Score:  1.0\n"
          ],
          "name": "stdout"
        }
      ]
    },
    {
      "cell_type": "code",
      "metadata": {
        "id": "GOUy-o9WasQy"
      },
      "source": [
        ""
      ],
      "execution_count": null,
      "outputs": []
    },
    {
      "cell_type": "code",
      "metadata": {
        "id": "BUXSEa-5asVR"
      },
      "source": [
        ""
      ],
      "execution_count": null,
      "outputs": []
    },
    {
      "cell_type": "code",
      "metadata": {
        "id": "iEzLE7BrasZd"
      },
      "source": [
        ""
      ],
      "execution_count": null,
      "outputs": []
    }
  ]
}