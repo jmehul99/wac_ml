{
  "nbformat": 4,
  "nbformat_minor": 0,
  "metadata": {
    "colab": {
      "name": "keras.ipynb",
      "provenance": []
    },
    "kernelspec": {
      "name": "python3",
      "display_name": "Python 3"
    },
    "language_info": {
      "name": "python"
    }
  },
  "cells": [
    {
      "cell_type": "code",
      "metadata": {
        "colab": {
          "base_uri": "https://localhost:8080/"
        },
        "id": "yVFHT85U-V-k",
        "outputId": "b623f9d4-5f6d-4f69-a110-baa585351904"
      },
      "source": [
        "from google.colab import drive\n",
        "drive.mount('/content/drive')"
      ],
      "execution_count": null,
      "outputs": [
        {
          "output_type": "stream",
          "text": [
            "Mounted at /content/drive\n"
          ],
          "name": "stdout"
        }
      ]
    },
    {
      "cell_type": "code",
      "metadata": {
        "colab": {
          "base_uri": "https://localhost:8080/",
          "height": 379
        },
        "id": "B7G6qpls-jeS",
        "outputId": "f352ff1e-c63d-491c-b3ab-46091f1e4603"
      },
      "source": [
        "\n",
        "import numpy as np\n",
        "import matplotlib.pyplot as plt\n",
        "import pandas as pd\n",
        "#dataset import\n",
        "dataset = pd.read_csv('/content/drive/MyDrive/day8/train (2).csv')\n",
        "dataset.head(10)"
      ],
      "execution_count": null,
      "outputs": [
        {
          "output_type": "execute_result",
          "data": {
            "text/html": [
              "<div>\n",
              "<style scoped>\n",
              "    .dataframe tbody tr th:only-of-type {\n",
              "        vertical-align: middle;\n",
              "    }\n",
              "\n",
              "    .dataframe tbody tr th {\n",
              "        vertical-align: top;\n",
              "    }\n",
              "\n",
              "    .dataframe thead th {\n",
              "        text-align: right;\n",
              "    }\n",
              "</style>\n",
              "<table border=\"1\" class=\"dataframe\">\n",
              "  <thead>\n",
              "    <tr style=\"text-align: right;\">\n",
              "      <th></th>\n",
              "      <th>battery_power</th>\n",
              "      <th>blue</th>\n",
              "      <th>clock_speed</th>\n",
              "      <th>dual_sim</th>\n",
              "      <th>fc</th>\n",
              "      <th>four_g</th>\n",
              "      <th>int_memory</th>\n",
              "      <th>m_dep</th>\n",
              "      <th>mobile_wt</th>\n",
              "      <th>n_cores</th>\n",
              "      <th>pc</th>\n",
              "      <th>px_height</th>\n",
              "      <th>px_width</th>\n",
              "      <th>ram</th>\n",
              "      <th>sc_h</th>\n",
              "      <th>sc_w</th>\n",
              "      <th>talk_time</th>\n",
              "      <th>three_g</th>\n",
              "      <th>touch_screen</th>\n",
              "      <th>wifi</th>\n",
              "      <th>price_range</th>\n",
              "    </tr>\n",
              "  </thead>\n",
              "  <tbody>\n",
              "    <tr>\n",
              "      <th>0</th>\n",
              "      <td>842</td>\n",
              "      <td>0</td>\n",
              "      <td>2.2</td>\n",
              "      <td>0</td>\n",
              "      <td>1</td>\n",
              "      <td>0</td>\n",
              "      <td>7</td>\n",
              "      <td>0.6</td>\n",
              "      <td>188</td>\n",
              "      <td>2</td>\n",
              "      <td>2</td>\n",
              "      <td>20</td>\n",
              "      <td>756</td>\n",
              "      <td>2549</td>\n",
              "      <td>9</td>\n",
              "      <td>7</td>\n",
              "      <td>19</td>\n",
              "      <td>0</td>\n",
              "      <td>0</td>\n",
              "      <td>1</td>\n",
              "      <td>1</td>\n",
              "    </tr>\n",
              "    <tr>\n",
              "      <th>1</th>\n",
              "      <td>1021</td>\n",
              "      <td>1</td>\n",
              "      <td>0.5</td>\n",
              "      <td>1</td>\n",
              "      <td>0</td>\n",
              "      <td>1</td>\n",
              "      <td>53</td>\n",
              "      <td>0.7</td>\n",
              "      <td>136</td>\n",
              "      <td>3</td>\n",
              "      <td>6</td>\n",
              "      <td>905</td>\n",
              "      <td>1988</td>\n",
              "      <td>2631</td>\n",
              "      <td>17</td>\n",
              "      <td>3</td>\n",
              "      <td>7</td>\n",
              "      <td>1</td>\n",
              "      <td>1</td>\n",
              "      <td>0</td>\n",
              "      <td>2</td>\n",
              "    </tr>\n",
              "    <tr>\n",
              "      <th>2</th>\n",
              "      <td>563</td>\n",
              "      <td>1</td>\n",
              "      <td>0.5</td>\n",
              "      <td>1</td>\n",
              "      <td>2</td>\n",
              "      <td>1</td>\n",
              "      <td>41</td>\n",
              "      <td>0.9</td>\n",
              "      <td>145</td>\n",
              "      <td>5</td>\n",
              "      <td>6</td>\n",
              "      <td>1263</td>\n",
              "      <td>1716</td>\n",
              "      <td>2603</td>\n",
              "      <td>11</td>\n",
              "      <td>2</td>\n",
              "      <td>9</td>\n",
              "      <td>1</td>\n",
              "      <td>1</td>\n",
              "      <td>0</td>\n",
              "      <td>2</td>\n",
              "    </tr>\n",
              "    <tr>\n",
              "      <th>3</th>\n",
              "      <td>615</td>\n",
              "      <td>1</td>\n",
              "      <td>2.5</td>\n",
              "      <td>0</td>\n",
              "      <td>0</td>\n",
              "      <td>0</td>\n",
              "      <td>10</td>\n",
              "      <td>0.8</td>\n",
              "      <td>131</td>\n",
              "      <td>6</td>\n",
              "      <td>9</td>\n",
              "      <td>1216</td>\n",
              "      <td>1786</td>\n",
              "      <td>2769</td>\n",
              "      <td>16</td>\n",
              "      <td>8</td>\n",
              "      <td>11</td>\n",
              "      <td>1</td>\n",
              "      <td>0</td>\n",
              "      <td>0</td>\n",
              "      <td>2</td>\n",
              "    </tr>\n",
              "    <tr>\n",
              "      <th>4</th>\n",
              "      <td>1821</td>\n",
              "      <td>1</td>\n",
              "      <td>1.2</td>\n",
              "      <td>0</td>\n",
              "      <td>13</td>\n",
              "      <td>1</td>\n",
              "      <td>44</td>\n",
              "      <td>0.6</td>\n",
              "      <td>141</td>\n",
              "      <td>2</td>\n",
              "      <td>14</td>\n",
              "      <td>1208</td>\n",
              "      <td>1212</td>\n",
              "      <td>1411</td>\n",
              "      <td>8</td>\n",
              "      <td>2</td>\n",
              "      <td>15</td>\n",
              "      <td>1</td>\n",
              "      <td>1</td>\n",
              "      <td>0</td>\n",
              "      <td>1</td>\n",
              "    </tr>\n",
              "    <tr>\n",
              "      <th>5</th>\n",
              "      <td>1859</td>\n",
              "      <td>0</td>\n",
              "      <td>0.5</td>\n",
              "      <td>1</td>\n",
              "      <td>3</td>\n",
              "      <td>0</td>\n",
              "      <td>22</td>\n",
              "      <td>0.7</td>\n",
              "      <td>164</td>\n",
              "      <td>1</td>\n",
              "      <td>7</td>\n",
              "      <td>1004</td>\n",
              "      <td>1654</td>\n",
              "      <td>1067</td>\n",
              "      <td>17</td>\n",
              "      <td>1</td>\n",
              "      <td>10</td>\n",
              "      <td>1</td>\n",
              "      <td>0</td>\n",
              "      <td>0</td>\n",
              "      <td>1</td>\n",
              "    </tr>\n",
              "    <tr>\n",
              "      <th>6</th>\n",
              "      <td>1821</td>\n",
              "      <td>0</td>\n",
              "      <td>1.7</td>\n",
              "      <td>0</td>\n",
              "      <td>4</td>\n",
              "      <td>1</td>\n",
              "      <td>10</td>\n",
              "      <td>0.8</td>\n",
              "      <td>139</td>\n",
              "      <td>8</td>\n",
              "      <td>10</td>\n",
              "      <td>381</td>\n",
              "      <td>1018</td>\n",
              "      <td>3220</td>\n",
              "      <td>13</td>\n",
              "      <td>8</td>\n",
              "      <td>18</td>\n",
              "      <td>1</td>\n",
              "      <td>0</td>\n",
              "      <td>1</td>\n",
              "      <td>3</td>\n",
              "    </tr>\n",
              "    <tr>\n",
              "      <th>7</th>\n",
              "      <td>1954</td>\n",
              "      <td>0</td>\n",
              "      <td>0.5</td>\n",
              "      <td>1</td>\n",
              "      <td>0</td>\n",
              "      <td>0</td>\n",
              "      <td>24</td>\n",
              "      <td>0.8</td>\n",
              "      <td>187</td>\n",
              "      <td>4</td>\n",
              "      <td>0</td>\n",
              "      <td>512</td>\n",
              "      <td>1149</td>\n",
              "      <td>700</td>\n",
              "      <td>16</td>\n",
              "      <td>3</td>\n",
              "      <td>5</td>\n",
              "      <td>1</td>\n",
              "      <td>1</td>\n",
              "      <td>1</td>\n",
              "      <td>0</td>\n",
              "    </tr>\n",
              "    <tr>\n",
              "      <th>8</th>\n",
              "      <td>1445</td>\n",
              "      <td>1</td>\n",
              "      <td>0.5</td>\n",
              "      <td>0</td>\n",
              "      <td>0</td>\n",
              "      <td>0</td>\n",
              "      <td>53</td>\n",
              "      <td>0.7</td>\n",
              "      <td>174</td>\n",
              "      <td>7</td>\n",
              "      <td>14</td>\n",
              "      <td>386</td>\n",
              "      <td>836</td>\n",
              "      <td>1099</td>\n",
              "      <td>17</td>\n",
              "      <td>1</td>\n",
              "      <td>20</td>\n",
              "      <td>1</td>\n",
              "      <td>0</td>\n",
              "      <td>0</td>\n",
              "      <td>0</td>\n",
              "    </tr>\n",
              "    <tr>\n",
              "      <th>9</th>\n",
              "      <td>509</td>\n",
              "      <td>1</td>\n",
              "      <td>0.6</td>\n",
              "      <td>1</td>\n",
              "      <td>2</td>\n",
              "      <td>1</td>\n",
              "      <td>9</td>\n",
              "      <td>0.1</td>\n",
              "      <td>93</td>\n",
              "      <td>5</td>\n",
              "      <td>15</td>\n",
              "      <td>1137</td>\n",
              "      <td>1224</td>\n",
              "      <td>513</td>\n",
              "      <td>19</td>\n",
              "      <td>10</td>\n",
              "      <td>12</td>\n",
              "      <td>1</td>\n",
              "      <td>0</td>\n",
              "      <td>0</td>\n",
              "      <td>0</td>\n",
              "    </tr>\n",
              "  </tbody>\n",
              "</table>\n",
              "</div>"
            ],
            "text/plain": [
              "   battery_power  blue  clock_speed  ...  touch_screen  wifi  price_range\n",
              "0            842     0          2.2  ...             0     1            1\n",
              "1           1021     1          0.5  ...             1     0            2\n",
              "2            563     1          0.5  ...             1     0            2\n",
              "3            615     1          2.5  ...             0     0            2\n",
              "4           1821     1          1.2  ...             1     0            1\n",
              "5           1859     0          0.5  ...             0     0            1\n",
              "6           1821     0          1.7  ...             0     1            3\n",
              "7           1954     0          0.5  ...             1     1            0\n",
              "8           1445     1          0.5  ...             0     0            0\n",
              "9            509     1          0.6  ...             0     0            0\n",
              "\n",
              "[10 rows x 21 columns]"
            ]
          },
          "metadata": {
            "tags": []
          },
          "execution_count": 2
        }
      ]
    },
    {
      "cell_type": "code",
      "metadata": {
        "colab": {
          "base_uri": "https://localhost:8080/"
        },
        "id": "viILa6db-jhM",
        "outputId": "3fa288a4-1679-4bbb-e918-4a60852bd06d"
      },
      "source": [
        "\n",
        "dataset.columns"
      ],
      "execution_count": null,
      "outputs": [
        {
          "output_type": "execute_result",
          "data": {
            "text/plain": [
              "Index(['battery_power', 'blue', 'clock_speed', 'dual_sim', 'fc', 'four_g',\n",
              "       'int_memory', 'm_dep', 'mobile_wt', 'n_cores', 'pc', 'px_height',\n",
              "       'px_width', 'ram', 'sc_h', 'sc_w', 'talk_time', 'three_g',\n",
              "       'touch_screen', 'wifi', 'price_range'],\n",
              "      dtype='object')"
            ]
          },
          "metadata": {
            "tags": []
          },
          "execution_count": 3
        }
      ]
    },
    {
      "cell_type": "code",
      "metadata": {
        "colab": {
          "base_uri": "https://localhost:8080/"
        },
        "id": "04yQ6WBj-jkH",
        "outputId": "12ce6662-3e4c-4748-ff32-9f679e16f56c"
      },
      "source": [
        "#Changing pandas dataframe to numpy array\n",
        "X = dataset.iloc[:,:20].values\n",
        "y = dataset.iloc[:,20:21].values\n",
        "\n",
        "#Normalizing the data\n",
        "from sklearn.preprocessing import StandardScaler\n",
        "sc = StandardScaler()\n",
        "X = sc.fit_transform(X)\n",
        "print('Normalized data:')\n",
        "print(X[0])\n",
        "\n",
        "#One hot encode\n",
        "from sklearn.preprocessing import OneHotEncoder\n",
        "ohe = OneHotEncoder()\n",
        "y = ohe.fit_transform(y).toarray()\n",
        "print('One hot encoded array:')\n",
        "print(y[0:5])\n",
        "\n",
        "#Train test split of model\n",
        "from sklearn.model_selection import train_test_split\n",
        "X_train,X_test,y_train,y_test = train_test_split(X,y,test_size = 0.1,random_state = 0)"
      ],
      "execution_count": null,
      "outputs": [
        {
          "output_type": "stream",
          "text": [
            "Normalized data:\n",
            "[-0.90259726 -0.9900495   0.83077942 -1.01918398 -0.76249466 -1.04396559\n",
            " -1.38064353  0.34073951  1.34924881 -1.10197128 -1.3057501  -1.40894856\n",
            " -1.14678403  0.39170341 -0.78498329  0.2831028   1.46249332 -1.78686097\n",
            " -1.00601811  0.98609664]\n",
            "One hot encoded array:\n",
            "[[0. 1. 0. 0.]\n",
            " [0. 0. 1. 0.]\n",
            " [0. 0. 1. 0.]\n",
            " [0. 0. 1. 0.]\n",
            " [0. 1. 0. 0.]]\n"
          ],
          "name": "stdout"
        }
      ]
    },
    {
      "cell_type": "code",
      "metadata": {
        "id": "RBrF0TOq-jnW"
      },
      "source": [
        "\n",
        "import keras\n",
        "from keras.models import Sequential\n",
        "from keras.layers import Dense"
      ],
      "execution_count": null,
      "outputs": []
    },
    {
      "cell_type": "code",
      "metadata": {
        "id": "LZTYVLwc-jqz"
      },
      "source": [
        "model = Sequential()\n",
        "model.add(Dense(16, input_dim=20, activation='relu'))\n",
        "model.add(Dense(12, activation='relu'))\n",
        "model.add(Dense(4, activation='softmax'))"
      ],
      "execution_count": null,
      "outputs": []
    },
    {
      "cell_type": "code",
      "metadata": {
        "colab": {
          "base_uri": "https://localhost:8080/"
        },
        "id": "epwS1FPm-jty",
        "outputId": "bce2a1b9-8445-4a88-9bcf-b28f16324bda"
      },
      "source": [
        "#To visualize neural network\n",
        "model.summary()"
      ],
      "execution_count": null,
      "outputs": [
        {
          "output_type": "stream",
          "text": [
            "Model: \"sequential\"\n",
            "_________________________________________________________________\n",
            "Layer (type)                 Output Shape              Param #   \n",
            "=================================================================\n",
            "dense (Dense)                (None, 16)                336       \n",
            "_________________________________________________________________\n",
            "dense_1 (Dense)              (None, 12)                204       \n",
            "_________________________________________________________________\n",
            "dense_2 (Dense)              (None, 4)                 52        \n",
            "=================================================================\n",
            "Total params: 592\n",
            "Trainable params: 592\n",
            "Non-trainable params: 0\n",
            "_________________________________________________________________\n"
          ],
          "name": "stdout"
        }
      ]
    },
    {
      "cell_type": "code",
      "metadata": {
        "id": "Ypv2prCl-jxR"
      },
      "source": [
        "model.compile(loss='categorical_crossentropy', optimizer='adam', metrics=['accuracy'])"
      ],
      "execution_count": null,
      "outputs": []
    },
    {
      "cell_type": "code",
      "metadata": {
        "colab": {
          "base_uri": "https://localhost:8080/"
        },
        "id": "443MGXYm-j0J",
        "outputId": "3f620e68-1202-4dfe-aae6-b00052630779"
      },
      "source": [
        "\n",
        "history = model.fit(X_train, y_train, epochs=100, batch_size=64)"
      ],
      "execution_count": null,
      "outputs": [
        {
          "output_type": "stream",
          "text": [
            "Epoch 1/100\n",
            "29/29 [==============================] - 1s 1ms/step - loss: 1.4859 - accuracy: 0.2565\n",
            "Epoch 2/100\n",
            "29/29 [==============================] - 0s 906us/step - loss: 1.3896 - accuracy: 0.2843\n",
            "Epoch 3/100\n",
            "29/29 [==============================] - 0s 839us/step - loss: 1.3379 - accuracy: 0.3498\n",
            "Epoch 4/100\n",
            "29/29 [==============================] - 0s 875us/step - loss: 1.3037 - accuracy: 0.3952\n",
            "Epoch 5/100\n",
            "29/29 [==============================] - 0s 1ms/step - loss: 1.2538 - accuracy: 0.4293\n",
            "Epoch 6/100\n",
            "29/29 [==============================] - 0s 1ms/step - loss: 1.1853 - accuracy: 0.4982\n",
            "Epoch 7/100\n",
            "29/29 [==============================] - 0s 1ms/step - loss: 1.1270 - accuracy: 0.5229\n",
            "Epoch 8/100\n",
            "29/29 [==============================] - 0s 1ms/step - loss: 1.0474 - accuracy: 0.5633\n",
            "Epoch 9/100\n",
            "29/29 [==============================] - 0s 1ms/step - loss: 0.9609 - accuracy: 0.5954\n",
            "Epoch 10/100\n",
            "29/29 [==============================] - 0s 1ms/step - loss: 0.8734 - accuracy: 0.6430\n",
            "Epoch 11/100\n",
            "29/29 [==============================] - 0s 936us/step - loss: 0.7842 - accuracy: 0.7036\n",
            "Epoch 12/100\n",
            "29/29 [==============================] - 0s 944us/step - loss: 0.7559 - accuracy: 0.7192\n",
            "Epoch 13/100\n",
            "29/29 [==============================] - 0s 1ms/step - loss: 0.6919 - accuracy: 0.7436\n",
            "Epoch 14/100\n",
            "29/29 [==============================] - 0s 1ms/step - loss: 0.6180 - accuracy: 0.7855\n",
            "Epoch 15/100\n",
            "29/29 [==============================] - 0s 967us/step - loss: 0.5865 - accuracy: 0.8213\n",
            "Epoch 16/100\n",
            "29/29 [==============================] - 0s 1ms/step - loss: 0.5375 - accuracy: 0.8332\n",
            "Epoch 17/100\n",
            "29/29 [==============================] - 0s 960us/step - loss: 0.4804 - accuracy: 0.8635\n",
            "Epoch 18/100\n",
            "29/29 [==============================] - 0s 912us/step - loss: 0.4490 - accuracy: 0.8720\n",
            "Epoch 19/100\n",
            "29/29 [==============================] - 0s 1ms/step - loss: 0.4097 - accuracy: 0.8928\n",
            "Epoch 20/100\n",
            "29/29 [==============================] - 0s 943us/step - loss: 0.3877 - accuracy: 0.8897\n",
            "Epoch 21/100\n",
            "29/29 [==============================] - 0s 945us/step - loss: 0.3560 - accuracy: 0.9021\n",
            "Epoch 22/100\n",
            "29/29 [==============================] - 0s 916us/step - loss: 0.3305 - accuracy: 0.9151\n",
            "Epoch 23/100\n",
            "29/29 [==============================] - 0s 910us/step - loss: 0.3122 - accuracy: 0.9184\n",
            "Epoch 24/100\n",
            "29/29 [==============================] - 0s 1ms/step - loss: 0.3032 - accuracy: 0.9191\n",
            "Epoch 25/100\n",
            "29/29 [==============================] - 0s 949us/step - loss: 0.2772 - accuracy: 0.9267\n",
            "Epoch 26/100\n",
            "29/29 [==============================] - 0s 1ms/step - loss: 0.2617 - accuracy: 0.9358\n",
            "Epoch 27/100\n",
            "29/29 [==============================] - 0s 927us/step - loss: 0.2630 - accuracy: 0.9336\n",
            "Epoch 28/100\n",
            "29/29 [==============================] - 0s 1ms/step - loss: 0.2504 - accuracy: 0.9315\n",
            "Epoch 29/100\n",
            "29/29 [==============================] - 0s 966us/step - loss: 0.2205 - accuracy: 0.9487\n",
            "Epoch 30/100\n",
            "29/29 [==============================] - 0s 1ms/step - loss: 0.2166 - accuracy: 0.9436\n",
            "Epoch 31/100\n",
            "29/29 [==============================] - 0s 911us/step - loss: 0.2093 - accuracy: 0.9459\n",
            "Epoch 32/100\n",
            "29/29 [==============================] - 0s 1ms/step - loss: 0.1929 - accuracy: 0.9494\n",
            "Epoch 33/100\n",
            "29/29 [==============================] - 0s 922us/step - loss: 0.1922 - accuracy: 0.9505\n",
            "Epoch 34/100\n",
            "29/29 [==============================] - 0s 1ms/step - loss: 0.1818 - accuracy: 0.9518\n",
            "Epoch 35/100\n",
            "29/29 [==============================] - 0s 972us/step - loss: 0.1710 - accuracy: 0.9522\n",
            "Epoch 36/100\n",
            "29/29 [==============================] - 0s 1ms/step - loss: 0.1615 - accuracy: 0.9600\n",
            "Epoch 37/100\n",
            "29/29 [==============================] - 0s 1ms/step - loss: 0.1625 - accuracy: 0.9641\n",
            "Epoch 38/100\n",
            "29/29 [==============================] - 0s 1ms/step - loss: 0.1511 - accuracy: 0.9636\n",
            "Epoch 39/100\n",
            "29/29 [==============================] - 0s 1ms/step - loss: 0.1522 - accuracy: 0.9593\n",
            "Epoch 40/100\n",
            "29/29 [==============================] - 0s 1ms/step - loss: 0.1401 - accuracy: 0.9604\n",
            "Epoch 41/100\n",
            "29/29 [==============================] - 0s 1ms/step - loss: 0.1336 - accuracy: 0.9663\n",
            "Epoch 42/100\n",
            "29/29 [==============================] - 0s 1ms/step - loss: 0.1375 - accuracy: 0.9605\n",
            "Epoch 43/100\n",
            "29/29 [==============================] - 0s 1ms/step - loss: 0.1418 - accuracy: 0.9624\n",
            "Epoch 44/100\n",
            "29/29 [==============================] - 0s 950us/step - loss: 0.1343 - accuracy: 0.9646\n",
            "Epoch 45/100\n",
            "29/29 [==============================] - 0s 932us/step - loss: 0.1235 - accuracy: 0.9650\n",
            "Epoch 46/100\n",
            "29/29 [==============================] - 0s 1ms/step - loss: 0.1161 - accuracy: 0.9689\n",
            "Epoch 47/100\n",
            "29/29 [==============================] - 0s 957us/step - loss: 0.1157 - accuracy: 0.9728\n",
            "Epoch 48/100\n",
            "29/29 [==============================] - 0s 1ms/step - loss: 0.1160 - accuracy: 0.9759\n",
            "Epoch 49/100\n",
            "29/29 [==============================] - 0s 1ms/step - loss: 0.1053 - accuracy: 0.9760\n",
            "Epoch 50/100\n",
            "29/29 [==============================] - 0s 1ms/step - loss: 0.1139 - accuracy: 0.9676\n",
            "Epoch 51/100\n",
            "29/29 [==============================] - 0s 1ms/step - loss: 0.1055 - accuracy: 0.9731\n",
            "Epoch 52/100\n",
            "29/29 [==============================] - 0s 1ms/step - loss: 0.1029 - accuracy: 0.9723\n",
            "Epoch 53/100\n",
            "29/29 [==============================] - 0s 1ms/step - loss: 0.1024 - accuracy: 0.9771\n",
            "Epoch 54/100\n",
            "29/29 [==============================] - 0s 1ms/step - loss: 0.0951 - accuracy: 0.9797\n",
            "Epoch 55/100\n",
            "29/29 [==============================] - 0s 1ms/step - loss: 0.0939 - accuracy: 0.9803\n",
            "Epoch 56/100\n",
            "29/29 [==============================] - 0s 1ms/step - loss: 0.0918 - accuracy: 0.9789\n",
            "Epoch 57/100\n",
            "29/29 [==============================] - 0s 1ms/step - loss: 0.0901 - accuracy: 0.9817\n",
            "Epoch 58/100\n",
            "29/29 [==============================] - 0s 1ms/step - loss: 0.0852 - accuracy: 0.9837\n",
            "Epoch 59/100\n",
            "29/29 [==============================] - 0s 1ms/step - loss: 0.0889 - accuracy: 0.9795\n",
            "Epoch 60/100\n",
            "29/29 [==============================] - 0s 1ms/step - loss: 0.0791 - accuracy: 0.9814\n",
            "Epoch 61/100\n",
            "29/29 [==============================] - 0s 1ms/step - loss: 0.0930 - accuracy: 0.9781\n",
            "Epoch 62/100\n",
            "29/29 [==============================] - 0s 1ms/step - loss: 0.0795 - accuracy: 0.9823\n",
            "Epoch 63/100\n",
            "29/29 [==============================] - 0s 1ms/step - loss: 0.0811 - accuracy: 0.9831\n",
            "Epoch 64/100\n",
            "29/29 [==============================] - 0s 1ms/step - loss: 0.0801 - accuracy: 0.9795\n",
            "Epoch 65/100\n",
            "29/29 [==============================] - 0s 1ms/step - loss: 0.0737 - accuracy: 0.9834\n",
            "Epoch 66/100\n",
            "29/29 [==============================] - 0s 942us/step - loss: 0.0720 - accuracy: 0.9822\n",
            "Epoch 67/100\n",
            "29/29 [==============================] - 0s 1ms/step - loss: 0.0694 - accuracy: 0.9828\n",
            "Epoch 68/100\n",
            "29/29 [==============================] - 0s 998us/step - loss: 0.0698 - accuracy: 0.9873\n",
            "Epoch 69/100\n",
            "29/29 [==============================] - 0s 910us/step - loss: 0.0667 - accuracy: 0.9863\n",
            "Epoch 70/100\n",
            "29/29 [==============================] - 0s 943us/step - loss: 0.0681 - accuracy: 0.9858\n",
            "Epoch 71/100\n",
            "29/29 [==============================] - 0s 1ms/step - loss: 0.0670 - accuracy: 0.9880\n",
            "Epoch 72/100\n",
            "29/29 [==============================] - 0s 913us/step - loss: 0.0605 - accuracy: 0.9911\n",
            "Epoch 73/100\n",
            "29/29 [==============================] - 0s 992us/step - loss: 0.0647 - accuracy: 0.9886\n",
            "Epoch 74/100\n",
            "29/29 [==============================] - 0s 1ms/step - loss: 0.0620 - accuracy: 0.9926\n",
            "Epoch 75/100\n",
            "29/29 [==============================] - 0s 1ms/step - loss: 0.0601 - accuracy: 0.9909\n",
            "Epoch 76/100\n",
            "29/29 [==============================] - 0s 1ms/step - loss: 0.0606 - accuracy: 0.9908\n",
            "Epoch 77/100\n",
            "29/29 [==============================] - 0s 1ms/step - loss: 0.0632 - accuracy: 0.9916\n",
            "Epoch 78/100\n",
            "29/29 [==============================] - 0s 986us/step - loss: 0.0570 - accuracy: 0.9916\n",
            "Epoch 79/100\n",
            "29/29 [==============================] - 0s 1ms/step - loss: 0.0560 - accuracy: 0.9937\n",
            "Epoch 80/100\n",
            "29/29 [==============================] - 0s 1ms/step - loss: 0.0592 - accuracy: 0.9914\n",
            "Epoch 81/100\n",
            "29/29 [==============================] - 0s 994us/step - loss: 0.0550 - accuracy: 0.9928\n",
            "Epoch 82/100\n",
            "29/29 [==============================] - 0s 923us/step - loss: 0.0518 - accuracy: 0.9930\n",
            "Epoch 83/100\n",
            "29/29 [==============================] - 0s 1ms/step - loss: 0.0451 - accuracy: 0.9970\n",
            "Epoch 84/100\n",
            "29/29 [==============================] - 0s 1ms/step - loss: 0.0533 - accuracy: 0.9930\n",
            "Epoch 85/100\n",
            "29/29 [==============================] - 0s 972us/step - loss: 0.0497 - accuracy: 0.9944\n",
            "Epoch 86/100\n",
            "29/29 [==============================] - 0s 1ms/step - loss: 0.0512 - accuracy: 0.9936\n",
            "Epoch 87/100\n",
            "29/29 [==============================] - 0s 1ms/step - loss: 0.0437 - accuracy: 0.9959\n",
            "Epoch 88/100\n",
            "29/29 [==============================] - 0s 1ms/step - loss: 0.0457 - accuracy: 0.9952\n",
            "Epoch 89/100\n",
            "29/29 [==============================] - 0s 1ms/step - loss: 0.0518 - accuracy: 0.9954\n",
            "Epoch 90/100\n",
            "29/29 [==============================] - 0s 1ms/step - loss: 0.0375 - accuracy: 0.9976\n",
            "Epoch 91/100\n",
            "29/29 [==============================] - 0s 1ms/step - loss: 0.0441 - accuracy: 0.9957\n",
            "Epoch 92/100\n",
            "29/29 [==============================] - 0s 1ms/step - loss: 0.0387 - accuracy: 0.9973\n",
            "Epoch 93/100\n",
            "29/29 [==============================] - 0s 1ms/step - loss: 0.0459 - accuracy: 0.9953\n",
            "Epoch 94/100\n",
            "29/29 [==============================] - 0s 972us/step - loss: 0.0434 - accuracy: 0.9932\n",
            "Epoch 95/100\n",
            "29/29 [==============================] - 0s 1ms/step - loss: 0.0416 - accuracy: 0.9931\n",
            "Epoch 96/100\n",
            "29/29 [==============================] - 0s 1ms/step - loss: 0.0417 - accuracy: 0.9949\n",
            "Epoch 97/100\n",
            "29/29 [==============================] - 0s 978us/step - loss: 0.0418 - accuracy: 0.9938\n",
            "Epoch 98/100\n",
            "29/29 [==============================] - 0s 1ms/step - loss: 0.0357 - accuracy: 0.9975\n",
            "Epoch 99/100\n",
            "29/29 [==============================] - 0s 1ms/step - loss: 0.0394 - accuracy: 0.9967\n",
            "Epoch 100/100\n",
            "29/29 [==============================] - 0s 1ms/step - loss: 0.0386 - accuracy: 0.9957\n"
          ],
          "name": "stdout"
        }
      ]
    },
    {
      "cell_type": "code",
      "metadata": {
        "id": "oiUtx2Hv-j3B"
      },
      "source": [
        "y_pred = model.predict(X_test)\n",
        "#Converting predictions to label\n",
        "pred = list()\n",
        "for i in range(len(y_pred)):\n",
        "    pred.append(np.argmax(y_pred[i]))"
      ],
      "execution_count": null,
      "outputs": []
    },
    {
      "cell_type": "code",
      "metadata": {
        "id": "w2iX4hin-j5m"
      },
      "source": [
        "#Converting one hot encoded test label to label\n",
        "test = list()\n",
        "for i in range(len(y_test)):\n",
        "    test.append(np.argmax(y_test[i]))"
      ],
      "execution_count": null,
      "outputs": []
    },
    {
      "cell_type": "code",
      "metadata": {
        "colab": {
          "base_uri": "https://localhost:8080/"
        },
        "id": "lUld5pad-j8-",
        "outputId": "1b57afb4-27f2-4ba4-a9de-63088be34325"
      },
      "source": [
        "from sklearn.metrics import accuracy_score\n",
        "a = accuracy_score(pred,test)\n",
        "print('Accuracy is:', a*100)"
      ],
      "execution_count": null,
      "outputs": [
        {
          "output_type": "stream",
          "text": [
            "Accuracy is: 94.5\n"
          ],
          "name": "stdout"
        }
      ]
    },
    {
      "cell_type": "code",
      "metadata": {
        "id": "LH5PgaTi-j_5"
      },
      "source": [
        ""
      ],
      "execution_count": null,
      "outputs": []
    },
    {
      "cell_type": "code",
      "metadata": {
        "id": "2B8YKx7G-kCj"
      },
      "source": [
        ""
      ],
      "execution_count": null,
      "outputs": []
    },
    {
      "cell_type": "code",
      "metadata": {
        "id": "3np033L2-kFo"
      },
      "source": [
        ""
      ],
      "execution_count": null,
      "outputs": []
    },
    {
      "cell_type": "code",
      "metadata": {
        "id": "2KXSWeNi-kIu"
      },
      "source": [
        ""
      ],
      "execution_count": null,
      "outputs": []
    }
  ]
}